{
  "cells": [
    {
      "cell_type": "code",
      "execution_count": 82,
      "metadata": {
        "colab": {
          "base_uri": "https://localhost:8080/",
          "height": 71
        },
        "colab_type": "code",
        "id": "7oyIu5bDptdI",
        "outputId": "57e75c64-5ae6-4828-adf5-fdfafc2cba43"
      },
      "outputs": [],
      "source": [
        "import math\n",
        "import numpy as np\n",
        "import pandas as pd\n",
        "import matplotlib.pyplot as plt \n",
        "import seaborn as sns\n",
        "from tabulate import tabulate\n",
        "from collections import Counter\n",
        "from statistics import mean\n",
        "from scipy.stats import entropy\n",
        "# \n",
        "# \n",
        "from sklearn.svm import SVC\n",
        "from sklearn.preprocessing import MinMaxScaler, label_binarize\n",
        "from sklearn.model_selection import train_test_split, GridSearchCV, cross_val_score\n",
        "from sklearn.feature_selection import mutual_info_classif, chi2, SelectKBest, RFE, SelectFromModel \n",
        "from sklearn.ensemble import BaggingClassifier, AdaBoostClassifier, StackingClassifier\n",
        "from sklearn.linear_model import LogisticRegression\n",
        "from sklearn.multiclass import OneVsRestClassifier\n",
        "from sklearn.inspection import permutation_importance\n",
        "from sklearn.metrics import accuracy_score, confusion_matrix, auc, roc_curve, roc_auc_score, recall_score, precision_score, RocCurveDisplay, precision_recall_fscore_support\n",
        "# \n",
        "from skrebate import ReliefF\n",
        "# \n",
        "# from chefboost import Chefboost as chef\n",
        "# from C45algorithm import *\n",
        "# \n",
        "# "
      ]
    },
    {
      "cell_type": "code",
      "execution_count": 83,
      "metadata": {
        "colab": {},
        "colab_type": "code",
        "id": "IYjo_Lekkndq"
      },
      "outputs": [],
      "source": [
        "def warn(*args, **kwargs):\n",
        "    pass\n",
        "import warnings\n",
        "warnings.warn = warn"
      ]
    },
    {
      "cell_type": "code",
      "execution_count": 84,
      "metadata": {},
      "outputs": [],
      "source": [
        "# Dematology\n",
        "# \n",
        "column_names=['erythema', 'scaling', 'definite borders', 'itching', \n",
        "              'koebner phenomenon', 'polygonal papules', 'follicular papules', \n",
        "              'oral mucosal involvement', 'knee and elbow involvement', 'scalp involvement',\n",
        "              'family history',' melanin incontinence', 'eosinophils in the infiltrate', 'PNL infiltrate',\n",
        "              'fibrosis of the papillary dermis','exocytosis','acanthosis','hyperkeratosis','parakeratosis',\n",
        "              'clubbing of the rete ridges','elongation of the rete ridges','thinning of the suprapapillary epidermis', \n",
        "              'spongiform pustule','munro microabcess', 'focal hypergranulosis', 'disappearance of the granular layer',\n",
        "              'vacuolisation and damage of basal layer', 'spongiosis', 'saw-tooth appearance of retes', 'follicular horn plug',\n",
        "              'perifollicular parakeratosis','inflammatory monoluclear inflitrate', 'band-like infiltrate','Age', 'Class'                \n",
        "]\n",
        "df = pd.read_csv('./dataset/dermatology.data', names=column_names) # Dematology dataset [https://archive.ics.uci.edu/ml/datasets/dermatology]\n",
        "# \n",
        "# \n",
        "# "
      ]
    },
    {
      "cell_type": "code",
      "execution_count": 85,
      "metadata": {},
      "outputs": [
        {
          "data": {
            "text/html": [
              "<div>\n",
              "<style scoped>\n",
              "    .dataframe tbody tr th:only-of-type {\n",
              "        vertical-align: middle;\n",
              "    }\n",
              "\n",
              "    .dataframe tbody tr th {\n",
              "        vertical-align: top;\n",
              "    }\n",
              "\n",
              "    .dataframe thead th {\n",
              "        text-align: right;\n",
              "    }\n",
              "</style>\n",
              "<table border=\"1\" class=\"dataframe\">\n",
              "  <thead>\n",
              "    <tr style=\"text-align: right;\">\n",
              "      <th></th>\n",
              "      <th>erythema</th>\n",
              "      <th>scaling</th>\n",
              "      <th>definite borders</th>\n",
              "      <th>itching</th>\n",
              "      <th>koebner phenomenon</th>\n",
              "      <th>polygonal papules</th>\n",
              "      <th>follicular papules</th>\n",
              "      <th>oral mucosal involvement</th>\n",
              "      <th>knee and elbow involvement</th>\n",
              "      <th>scalp involvement</th>\n",
              "      <th>...</th>\n",
              "      <th>disappearance of the granular layer</th>\n",
              "      <th>vacuolisation and damage of basal layer</th>\n",
              "      <th>spongiosis</th>\n",
              "      <th>saw-tooth appearance of retes</th>\n",
              "      <th>follicular horn plug</th>\n",
              "      <th>perifollicular parakeratosis</th>\n",
              "      <th>inflammatory monoluclear inflitrate</th>\n",
              "      <th>band-like infiltrate</th>\n",
              "      <th>Age</th>\n",
              "      <th>Class</th>\n",
              "    </tr>\n",
              "  </thead>\n",
              "  <tbody>\n",
              "    <tr>\n",
              "      <th>0</th>\n",
              "      <td>2</td>\n",
              "      <td>2</td>\n",
              "      <td>0</td>\n",
              "      <td>3</td>\n",
              "      <td>0</td>\n",
              "      <td>0</td>\n",
              "      <td>0</td>\n",
              "      <td>0</td>\n",
              "      <td>1</td>\n",
              "      <td>0</td>\n",
              "      <td>...</td>\n",
              "      <td>0</td>\n",
              "      <td>0</td>\n",
              "      <td>3</td>\n",
              "      <td>0</td>\n",
              "      <td>0</td>\n",
              "      <td>0</td>\n",
              "      <td>1</td>\n",
              "      <td>0</td>\n",
              "      <td>55</td>\n",
              "      <td>2</td>\n",
              "    </tr>\n",
              "    <tr>\n",
              "      <th>1</th>\n",
              "      <td>3</td>\n",
              "      <td>3</td>\n",
              "      <td>3</td>\n",
              "      <td>2</td>\n",
              "      <td>1</td>\n",
              "      <td>0</td>\n",
              "      <td>0</td>\n",
              "      <td>0</td>\n",
              "      <td>1</td>\n",
              "      <td>1</td>\n",
              "      <td>...</td>\n",
              "      <td>0</td>\n",
              "      <td>0</td>\n",
              "      <td>0</td>\n",
              "      <td>0</td>\n",
              "      <td>0</td>\n",
              "      <td>0</td>\n",
              "      <td>1</td>\n",
              "      <td>0</td>\n",
              "      <td>8</td>\n",
              "      <td>1</td>\n",
              "    </tr>\n",
              "    <tr>\n",
              "      <th>2</th>\n",
              "      <td>2</td>\n",
              "      <td>1</td>\n",
              "      <td>2</td>\n",
              "      <td>3</td>\n",
              "      <td>1</td>\n",
              "      <td>3</td>\n",
              "      <td>0</td>\n",
              "      <td>3</td>\n",
              "      <td>0</td>\n",
              "      <td>0</td>\n",
              "      <td>...</td>\n",
              "      <td>0</td>\n",
              "      <td>2</td>\n",
              "      <td>3</td>\n",
              "      <td>2</td>\n",
              "      <td>0</td>\n",
              "      <td>0</td>\n",
              "      <td>2</td>\n",
              "      <td>3</td>\n",
              "      <td>26</td>\n",
              "      <td>3</td>\n",
              "    </tr>\n",
              "    <tr>\n",
              "      <th>3</th>\n",
              "      <td>2</td>\n",
              "      <td>2</td>\n",
              "      <td>2</td>\n",
              "      <td>0</td>\n",
              "      <td>0</td>\n",
              "      <td>0</td>\n",
              "      <td>0</td>\n",
              "      <td>0</td>\n",
              "      <td>3</td>\n",
              "      <td>2</td>\n",
              "      <td>...</td>\n",
              "      <td>3</td>\n",
              "      <td>0</td>\n",
              "      <td>0</td>\n",
              "      <td>0</td>\n",
              "      <td>0</td>\n",
              "      <td>0</td>\n",
              "      <td>3</td>\n",
              "      <td>0</td>\n",
              "      <td>40</td>\n",
              "      <td>1</td>\n",
              "    </tr>\n",
              "    <tr>\n",
              "      <th>4</th>\n",
              "      <td>2</td>\n",
              "      <td>3</td>\n",
              "      <td>2</td>\n",
              "      <td>2</td>\n",
              "      <td>2</td>\n",
              "      <td>2</td>\n",
              "      <td>0</td>\n",
              "      <td>2</td>\n",
              "      <td>0</td>\n",
              "      <td>0</td>\n",
              "      <td>...</td>\n",
              "      <td>2</td>\n",
              "      <td>3</td>\n",
              "      <td>2</td>\n",
              "      <td>3</td>\n",
              "      <td>0</td>\n",
              "      <td>0</td>\n",
              "      <td>2</td>\n",
              "      <td>3</td>\n",
              "      <td>45</td>\n",
              "      <td>3</td>\n",
              "    </tr>\n",
              "  </tbody>\n",
              "</table>\n",
              "<p>5 rows × 35 columns</p>\n",
              "</div>"
            ],
            "text/plain": [
              "   erythema  scaling  definite borders  itching  koebner phenomenon  \\\n",
              "0         2        2                 0        3                   0   \n",
              "1         3        3                 3        2                   1   \n",
              "2         2        1                 2        3                   1   \n",
              "3         2        2                 2        0                   0   \n",
              "4         2        3                 2        2                   2   \n",
              "\n",
              "   polygonal papules  follicular papules  oral mucosal involvement  \\\n",
              "0                  0                   0                         0   \n",
              "1                  0                   0                         0   \n",
              "2                  3                   0                         3   \n",
              "3                  0                   0                         0   \n",
              "4                  2                   0                         2   \n",
              "\n",
              "   knee and elbow involvement  scalp involvement  ...  \\\n",
              "0                           1                  0  ...   \n",
              "1                           1                  1  ...   \n",
              "2                           0                  0  ...   \n",
              "3                           3                  2  ...   \n",
              "4                           0                  0  ...   \n",
              "\n",
              "   disappearance of the granular layer  \\\n",
              "0                                    0   \n",
              "1                                    0   \n",
              "2                                    0   \n",
              "3                                    3   \n",
              "4                                    2   \n",
              "\n",
              "   vacuolisation and damage of basal layer  spongiosis  \\\n",
              "0                                        0           3   \n",
              "1                                        0           0   \n",
              "2                                        2           3   \n",
              "3                                        0           0   \n",
              "4                                        3           2   \n",
              "\n",
              "   saw-tooth appearance of retes  follicular horn plug  \\\n",
              "0                              0                     0   \n",
              "1                              0                     0   \n",
              "2                              2                     0   \n",
              "3                              0                     0   \n",
              "4                              3                     0   \n",
              "\n",
              "   perifollicular parakeratosis  inflammatory monoluclear inflitrate  \\\n",
              "0                             0                                    1   \n",
              "1                             0                                    1   \n",
              "2                             0                                    2   \n",
              "3                             0                                    3   \n",
              "4                             0                                    2   \n",
              "\n",
              "   band-like infiltrate  Age  Class  \n",
              "0                     0   55      2  \n",
              "1                     0    8      1  \n",
              "2                     3   26      3  \n",
              "3                     0   40      1  \n",
              "4                     3   45      3  \n",
              "\n",
              "[5 rows x 35 columns]"
            ]
          },
          "execution_count": 85,
          "metadata": {},
          "output_type": "execute_result"
        }
      ],
      "source": [
        "df.head(5)"
      ]
    },
    {
      "cell_type": "code",
      "execution_count": 86,
      "metadata": {},
      "outputs": [
        {
          "name": "stdout",
          "output_type": "stream",
          "text": [
            "Dimension of Dataframe: (366, 35)\n"
          ]
        }
      ],
      "source": [
        "print('Dimension of Dataframe:', df.shape)\n",
        "# \n"
      ]
    },
    {
      "cell_type": "code",
      "execution_count": 87,
      "metadata": {},
      "outputs": [],
      "source": [
        "# Target, Class, \n",
        "# Class Distribution:\n",
        "#     Database:  Dermatology\n",
        "    \n",
        "#     Class code:   Class:                  Number of instances:\n",
        "#     1             psoriasis\t\t\t            112\n",
        "#     2             seboreic dermatitis             61\n",
        "#     3             lichen planus                   72\n",
        "#     4             pityriasis rosea                49\n",
        "#     5             cronic dermatitis               52    \n",
        "#     6             pityriasis rubra pilaris        20\n",
        "# \n",
        "# \n",
        "# \n",
        "# true_cases = df[(df['Class'] >= 1)].count()['Age']\n",
        "# false_cases = len(df) - df[(df['Class'] >= 1)].count()['Age']\n",
        "# true_cases_ratio = (true_cases/len(df))*100\n",
        "# false_cases_ratio = (false_cases/len(df))*100\n",
        "# # \n",
        "# print('Number of True cases: ', true_cases)\n",
        "# print('Number of False cases: ', false_cases)\n",
        "# # \n",
        "# print('Percentage ratio[True cases]: ', true_cases_ratio)\n",
        "# print('Percentage ratio[False cases]: ', false_cases_ratio)\n",
        "# "
      ]
    },
    {
      "cell_type": "code",
      "execution_count": 88,
      "metadata": {
        "colab": {
          "base_uri": "https://localhost:8080/",
          "height": 297
        },
        "colab_type": "code",
        "id": "XWt9QOVkptdh",
        "outputId": "b0c64501-0b4c-490c-96b8-78f2dbe6bcb6"
      },
      "outputs": [
        {
          "data": {
            "text/html": [
              "<div>\n",
              "<style scoped>\n",
              "    .dataframe tbody tr th:only-of-type {\n",
              "        vertical-align: middle;\n",
              "    }\n",
              "\n",
              "    .dataframe tbody tr th {\n",
              "        vertical-align: top;\n",
              "    }\n",
              "\n",
              "    .dataframe thead th {\n",
              "        text-align: right;\n",
              "    }\n",
              "</style>\n",
              "<table border=\"1\" class=\"dataframe\">\n",
              "  <thead>\n",
              "    <tr style=\"text-align: right;\">\n",
              "      <th></th>\n",
              "      <th>erythema</th>\n",
              "      <th>scaling</th>\n",
              "      <th>definite borders</th>\n",
              "      <th>itching</th>\n",
              "      <th>koebner phenomenon</th>\n",
              "      <th>polygonal papules</th>\n",
              "      <th>follicular papules</th>\n",
              "      <th>oral mucosal involvement</th>\n",
              "      <th>knee and elbow involvement</th>\n",
              "      <th>scalp involvement</th>\n",
              "      <th>...</th>\n",
              "      <th>focal hypergranulosis</th>\n",
              "      <th>disappearance of the granular layer</th>\n",
              "      <th>vacuolisation and damage of basal layer</th>\n",
              "      <th>spongiosis</th>\n",
              "      <th>saw-tooth appearance of retes</th>\n",
              "      <th>follicular horn plug</th>\n",
              "      <th>perifollicular parakeratosis</th>\n",
              "      <th>inflammatory monoluclear inflitrate</th>\n",
              "      <th>band-like infiltrate</th>\n",
              "      <th>Class</th>\n",
              "    </tr>\n",
              "  </thead>\n",
              "  <tbody>\n",
              "    <tr>\n",
              "      <th>count</th>\n",
              "      <td>366.000000</td>\n",
              "      <td>366.000000</td>\n",
              "      <td>366.000000</td>\n",
              "      <td>366.000000</td>\n",
              "      <td>366.000000</td>\n",
              "      <td>366.000000</td>\n",
              "      <td>366.000000</td>\n",
              "      <td>366.000000</td>\n",
              "      <td>366.000000</td>\n",
              "      <td>366.000000</td>\n",
              "      <td>...</td>\n",
              "      <td>366.000000</td>\n",
              "      <td>366.000000</td>\n",
              "      <td>366.000000</td>\n",
              "      <td>366.000000</td>\n",
              "      <td>366.000000</td>\n",
              "      <td>366.000000</td>\n",
              "      <td>366.000000</td>\n",
              "      <td>366.000000</td>\n",
              "      <td>366.000000</td>\n",
              "      <td>366.000000</td>\n",
              "    </tr>\n",
              "    <tr>\n",
              "      <th>mean</th>\n",
              "      <td>2.068306</td>\n",
              "      <td>1.795082</td>\n",
              "      <td>1.549180</td>\n",
              "      <td>1.366120</td>\n",
              "      <td>0.633880</td>\n",
              "      <td>0.448087</td>\n",
              "      <td>0.166667</td>\n",
              "      <td>0.377049</td>\n",
              "      <td>0.614754</td>\n",
              "      <td>0.519126</td>\n",
              "      <td>...</td>\n",
              "      <td>0.393443</td>\n",
              "      <td>0.464481</td>\n",
              "      <td>0.456284</td>\n",
              "      <td>0.953552</td>\n",
              "      <td>0.453552</td>\n",
              "      <td>0.103825</td>\n",
              "      <td>0.114754</td>\n",
              "      <td>1.866120</td>\n",
              "      <td>0.554645</td>\n",
              "      <td>2.803279</td>\n",
              "    </tr>\n",
              "    <tr>\n",
              "      <th>std</th>\n",
              "      <td>0.664753</td>\n",
              "      <td>0.701527</td>\n",
              "      <td>0.907525</td>\n",
              "      <td>1.138299</td>\n",
              "      <td>0.908016</td>\n",
              "      <td>0.957327</td>\n",
              "      <td>0.570588</td>\n",
              "      <td>0.834147</td>\n",
              "      <td>0.982979</td>\n",
              "      <td>0.905639</td>\n",
              "      <td>...</td>\n",
              "      <td>0.849406</td>\n",
              "      <td>0.864899</td>\n",
              "      <td>0.954873</td>\n",
              "      <td>1.130172</td>\n",
              "      <td>0.954744</td>\n",
              "      <td>0.450433</td>\n",
              "      <td>0.488723</td>\n",
              "      <td>0.726108</td>\n",
              "      <td>1.105908</td>\n",
              "      <td>1.597803</td>\n",
              "    </tr>\n",
              "    <tr>\n",
              "      <th>min</th>\n",
              "      <td>0.000000</td>\n",
              "      <td>0.000000</td>\n",
              "      <td>0.000000</td>\n",
              "      <td>0.000000</td>\n",
              "      <td>0.000000</td>\n",
              "      <td>0.000000</td>\n",
              "      <td>0.000000</td>\n",
              "      <td>0.000000</td>\n",
              "      <td>0.000000</td>\n",
              "      <td>0.000000</td>\n",
              "      <td>...</td>\n",
              "      <td>0.000000</td>\n",
              "      <td>0.000000</td>\n",
              "      <td>0.000000</td>\n",
              "      <td>0.000000</td>\n",
              "      <td>0.000000</td>\n",
              "      <td>0.000000</td>\n",
              "      <td>0.000000</td>\n",
              "      <td>0.000000</td>\n",
              "      <td>0.000000</td>\n",
              "      <td>1.000000</td>\n",
              "    </tr>\n",
              "    <tr>\n",
              "      <th>25%</th>\n",
              "      <td>2.000000</td>\n",
              "      <td>1.000000</td>\n",
              "      <td>1.000000</td>\n",
              "      <td>0.000000</td>\n",
              "      <td>0.000000</td>\n",
              "      <td>0.000000</td>\n",
              "      <td>0.000000</td>\n",
              "      <td>0.000000</td>\n",
              "      <td>0.000000</td>\n",
              "      <td>0.000000</td>\n",
              "      <td>...</td>\n",
              "      <td>0.000000</td>\n",
              "      <td>0.000000</td>\n",
              "      <td>0.000000</td>\n",
              "      <td>0.000000</td>\n",
              "      <td>0.000000</td>\n",
              "      <td>0.000000</td>\n",
              "      <td>0.000000</td>\n",
              "      <td>1.000000</td>\n",
              "      <td>0.000000</td>\n",
              "      <td>1.000000</td>\n",
              "    </tr>\n",
              "    <tr>\n",
              "      <th>50%</th>\n",
              "      <td>2.000000</td>\n",
              "      <td>2.000000</td>\n",
              "      <td>2.000000</td>\n",
              "      <td>1.000000</td>\n",
              "      <td>0.000000</td>\n",
              "      <td>0.000000</td>\n",
              "      <td>0.000000</td>\n",
              "      <td>0.000000</td>\n",
              "      <td>0.000000</td>\n",
              "      <td>0.000000</td>\n",
              "      <td>...</td>\n",
              "      <td>0.000000</td>\n",
              "      <td>0.000000</td>\n",
              "      <td>0.000000</td>\n",
              "      <td>0.000000</td>\n",
              "      <td>0.000000</td>\n",
              "      <td>0.000000</td>\n",
              "      <td>0.000000</td>\n",
              "      <td>2.000000</td>\n",
              "      <td>0.000000</td>\n",
              "      <td>3.000000</td>\n",
              "    </tr>\n",
              "    <tr>\n",
              "      <th>75%</th>\n",
              "      <td>2.000000</td>\n",
              "      <td>2.000000</td>\n",
              "      <td>2.000000</td>\n",
              "      <td>2.000000</td>\n",
              "      <td>1.000000</td>\n",
              "      <td>0.000000</td>\n",
              "      <td>0.000000</td>\n",
              "      <td>0.000000</td>\n",
              "      <td>1.000000</td>\n",
              "      <td>1.000000</td>\n",
              "      <td>...</td>\n",
              "      <td>0.000000</td>\n",
              "      <td>1.000000</td>\n",
              "      <td>0.000000</td>\n",
              "      <td>2.000000</td>\n",
              "      <td>0.000000</td>\n",
              "      <td>0.000000</td>\n",
              "      <td>0.000000</td>\n",
              "      <td>2.000000</td>\n",
              "      <td>0.000000</td>\n",
              "      <td>4.000000</td>\n",
              "    </tr>\n",
              "    <tr>\n",
              "      <th>max</th>\n",
              "      <td>3.000000</td>\n",
              "      <td>3.000000</td>\n",
              "      <td>3.000000</td>\n",
              "      <td>3.000000</td>\n",
              "      <td>3.000000</td>\n",
              "      <td>3.000000</td>\n",
              "      <td>3.000000</td>\n",
              "      <td>3.000000</td>\n",
              "      <td>3.000000</td>\n",
              "      <td>3.000000</td>\n",
              "      <td>...</td>\n",
              "      <td>3.000000</td>\n",
              "      <td>3.000000</td>\n",
              "      <td>3.000000</td>\n",
              "      <td>3.000000</td>\n",
              "      <td>3.000000</td>\n",
              "      <td>3.000000</td>\n",
              "      <td>3.000000</td>\n",
              "      <td>3.000000</td>\n",
              "      <td>3.000000</td>\n",
              "      <td>6.000000</td>\n",
              "    </tr>\n",
              "  </tbody>\n",
              "</table>\n",
              "<p>8 rows × 34 columns</p>\n",
              "</div>"
            ],
            "text/plain": [
              "         erythema     scaling  definite borders     itching  \\\n",
              "count  366.000000  366.000000        366.000000  366.000000   \n",
              "mean     2.068306    1.795082          1.549180    1.366120   \n",
              "std      0.664753    0.701527          0.907525    1.138299   \n",
              "min      0.000000    0.000000          0.000000    0.000000   \n",
              "25%      2.000000    1.000000          1.000000    0.000000   \n",
              "50%      2.000000    2.000000          2.000000    1.000000   \n",
              "75%      2.000000    2.000000          2.000000    2.000000   \n",
              "max      3.000000    3.000000          3.000000    3.000000   \n",
              "\n",
              "       koebner phenomenon  polygonal papules  follicular papules  \\\n",
              "count          366.000000         366.000000          366.000000   \n",
              "mean             0.633880           0.448087            0.166667   \n",
              "std              0.908016           0.957327            0.570588   \n",
              "min              0.000000           0.000000            0.000000   \n",
              "25%              0.000000           0.000000            0.000000   \n",
              "50%              0.000000           0.000000            0.000000   \n",
              "75%              1.000000           0.000000            0.000000   \n",
              "max              3.000000           3.000000            3.000000   \n",
              "\n",
              "       oral mucosal involvement  knee and elbow involvement  \\\n",
              "count                366.000000                  366.000000   \n",
              "mean                   0.377049                    0.614754   \n",
              "std                    0.834147                    0.982979   \n",
              "min                    0.000000                    0.000000   \n",
              "25%                    0.000000                    0.000000   \n",
              "50%                    0.000000                    0.000000   \n",
              "75%                    0.000000                    1.000000   \n",
              "max                    3.000000                    3.000000   \n",
              "\n",
              "       scalp involvement  ...  focal hypergranulosis  \\\n",
              "count         366.000000  ...             366.000000   \n",
              "mean            0.519126  ...               0.393443   \n",
              "std             0.905639  ...               0.849406   \n",
              "min             0.000000  ...               0.000000   \n",
              "25%             0.000000  ...               0.000000   \n",
              "50%             0.000000  ...               0.000000   \n",
              "75%             1.000000  ...               0.000000   \n",
              "max             3.000000  ...               3.000000   \n",
              "\n",
              "       disappearance of the granular layer  \\\n",
              "count                           366.000000   \n",
              "mean                              0.464481   \n",
              "std                               0.864899   \n",
              "min                               0.000000   \n",
              "25%                               0.000000   \n",
              "50%                               0.000000   \n",
              "75%                               1.000000   \n",
              "max                               3.000000   \n",
              "\n",
              "       vacuolisation and damage of basal layer  spongiosis  \\\n",
              "count                               366.000000  366.000000   \n",
              "mean                                  0.456284    0.953552   \n",
              "std                                   0.954873    1.130172   \n",
              "min                                   0.000000    0.000000   \n",
              "25%                                   0.000000    0.000000   \n",
              "50%                                   0.000000    0.000000   \n",
              "75%                                   0.000000    2.000000   \n",
              "max                                   3.000000    3.000000   \n",
              "\n",
              "       saw-tooth appearance of retes  follicular horn plug  \\\n",
              "count                     366.000000            366.000000   \n",
              "mean                        0.453552              0.103825   \n",
              "std                         0.954744              0.450433   \n",
              "min                         0.000000              0.000000   \n",
              "25%                         0.000000              0.000000   \n",
              "50%                         0.000000              0.000000   \n",
              "75%                         0.000000              0.000000   \n",
              "max                         3.000000              3.000000   \n",
              "\n",
              "       perifollicular parakeratosis  inflammatory monoluclear inflitrate  \\\n",
              "count                    366.000000                           366.000000   \n",
              "mean                       0.114754                             1.866120   \n",
              "std                        0.488723                             0.726108   \n",
              "min                        0.000000                             0.000000   \n",
              "25%                        0.000000                             1.000000   \n",
              "50%                        0.000000                             2.000000   \n",
              "75%                        0.000000                             2.000000   \n",
              "max                        3.000000                             3.000000   \n",
              "\n",
              "       band-like infiltrate       Class  \n",
              "count            366.000000  366.000000  \n",
              "mean               0.554645    2.803279  \n",
              "std                1.105908    1.597803  \n",
              "min                0.000000    1.000000  \n",
              "25%                0.000000    1.000000  \n",
              "50%                0.000000    3.000000  \n",
              "75%                0.000000    4.000000  \n",
              "max                3.000000    6.000000  \n",
              "\n",
              "[8 rows x 34 columns]"
            ]
          },
          "execution_count": 88,
          "metadata": {},
          "output_type": "execute_result"
        }
      ],
      "source": [
        "df.describe()"
      ]
    },
    {
      "cell_type": "code",
      "execution_count": 89,
      "metadata": {},
      "outputs": [],
      "source": [
        "# df = df.reset_index()"
      ]
    },
    {
      "cell_type": "code",
      "execution_count": 90,
      "metadata": {},
      "outputs": [
        {
          "data": {
            "text/plain": [
              "erythema                                    0\n",
              "scaling                                     0\n",
              "definite borders                            0\n",
              "itching                                     0\n",
              "koebner phenomenon                          0\n",
              "polygonal papules                           0\n",
              "follicular papules                          0\n",
              "oral mucosal involvement                    0\n",
              "knee and elbow involvement                  0\n",
              "scalp involvement                           0\n",
              "family history                              0\n",
              " melanin incontinence                       0\n",
              "eosinophils in the infiltrate               0\n",
              "PNL infiltrate                              0\n",
              "fibrosis of the papillary dermis            0\n",
              "exocytosis                                  0\n",
              "acanthosis                                  0\n",
              "hyperkeratosis                              0\n",
              "parakeratosis                               0\n",
              "clubbing of the rete ridges                 0\n",
              "elongation of the rete ridges               0\n",
              "thinning of the suprapapillary epidermis    0\n",
              "spongiform pustule                          0\n",
              "munro microabcess                           0\n",
              "focal hypergranulosis                       0\n",
              "disappearance of the granular layer         0\n",
              "vacuolisation and damage of basal layer     0\n",
              "spongiosis                                  0\n",
              "saw-tooth appearance of retes               0\n",
              "follicular horn plug                        0\n",
              "perifollicular parakeratosis                0\n",
              "inflammatory monoluclear inflitrate         0\n",
              "band-like infiltrate                        0\n",
              "Age                                         0\n",
              "Class                                       0\n",
              "dtype: int64"
            ]
          },
          "execution_count": 90,
          "metadata": {},
          "output_type": "execute_result"
        }
      ],
      "source": [
        "df.isna().sum()"
      ]
    },
    {
      "cell_type": "code",
      "execution_count": 91,
      "metadata": {
        "colab": {},
        "colab_type": "code",
        "id": "OsKBAZwtptdo"
      },
      "outputs": [],
      "source": [
        "df = df.replace('?', np.nan)\n",
        "# df = df.replace('inf', np.nan)"
      ]
    },
    {
      "cell_type": "code",
      "execution_count": 92,
      "metadata": {
        "colab": {
          "base_uri": "https://localhost:8080/",
          "height": 646
        },
        "colab_type": "code",
        "id": "w0TneOABptd_",
        "outputId": "d28300c5-0fbd-4cc1-f519-89dcc18e7a09"
      },
      "outputs": [
        {
          "data": {
            "text/plain": [
              "erythema                                    float64\n",
              "scaling                                     float64\n",
              "definite borders                            float64\n",
              "itching                                     float64\n",
              "koebner phenomenon                          float64\n",
              "polygonal papules                           float64\n",
              "follicular papules                          float64\n",
              "oral mucosal involvement                    float64\n",
              "knee and elbow involvement                  float64\n",
              "scalp involvement                           float64\n",
              "family history                              float64\n",
              " melanin incontinence                       float64\n",
              "eosinophils in the infiltrate               float64\n",
              "PNL infiltrate                              float64\n",
              "fibrosis of the papillary dermis            float64\n",
              "exocytosis                                  float64\n",
              "acanthosis                                  float64\n",
              "hyperkeratosis                              float64\n",
              "parakeratosis                               float64\n",
              "clubbing of the rete ridges                 float64\n",
              "elongation of the rete ridges               float64\n",
              "thinning of the suprapapillary epidermis    float64\n",
              "spongiform pustule                          float64\n",
              "munro microabcess                           float64\n",
              "focal hypergranulosis                       float64\n",
              "disappearance of the granular layer         float64\n",
              "vacuolisation and damage of basal layer     float64\n",
              "spongiosis                                  float64\n",
              "saw-tooth appearance of retes               float64\n",
              "follicular horn plug                        float64\n",
              "perifollicular parakeratosis                float64\n",
              "inflammatory monoluclear inflitrate         float64\n",
              "band-like infiltrate                        float64\n",
              "Age                                         float64\n",
              "Class                                       float64\n",
              "dtype: object"
            ]
          },
          "execution_count": 92,
          "metadata": {},
          "output_type": "execute_result"
        }
      ],
      "source": [
        "df = df.astype('float64')\n",
        "# df['Class'] = df['Class'].astype('int64')\n",
        "df.dtypes"
      ]
    },
    {
      "cell_type": "code",
      "execution_count": 93,
      "metadata": {},
      "outputs": [
        {
          "data": {
            "text/plain": [
              "erythema                                      757.0\n",
              "scaling                                       657.0\n",
              "definite borders                              567.0\n",
              "itching                                       500.0\n",
              "koebner phenomenon                            232.0\n",
              "polygonal papules                             164.0\n",
              "follicular papules                             61.0\n",
              "oral mucosal involvement                      138.0\n",
              "knee and elbow involvement                    225.0\n",
              "scalp involvement                             190.0\n",
              "family history                                 46.0\n",
              " melanin incontinence                         148.0\n",
              "eosinophils in the infiltrate                  51.0\n",
              "PNL infiltrate                                200.0\n",
              "fibrosis of the papillary dermis              123.0\n",
              "exocytosis                                    501.0\n",
              "acanthosis                                    716.0\n",
              "hyperkeratosis                                193.0\n",
              "parakeratosis                                 472.0\n",
              "clubbing of the rete ridges                   243.0\n",
              "elongation of the rete ridges                 363.0\n",
              "thinning of the suprapapillary epidermis      232.0\n",
              "spongiform pustule                            108.0\n",
              "munro microabcess                             133.0\n",
              "focal hypergranulosis                         144.0\n",
              "disappearance of the granular layer           170.0\n",
              "vacuolisation and damage of basal layer       167.0\n",
              "spongiosis                                    349.0\n",
              "saw-tooth appearance of retes                 166.0\n",
              "follicular horn plug                           38.0\n",
              "perifollicular parakeratosis                   42.0\n",
              "inflammatory monoluclear inflitrate           683.0\n",
              "band-like infiltrate                          203.0\n",
              "Age                                         12994.0\n",
              "Class                                        1026.0\n",
              "dtype: float64"
            ]
          },
          "execution_count": 93,
          "metadata": {},
          "output_type": "execute_result"
        }
      ],
      "source": [
        "df.sum()"
      ]
    },
    {
      "cell_type": "markdown",
      "metadata": {},
      "source": [
        "#### Data Preprocessing"
      ]
    },
    {
      "cell_type": "code",
      "execution_count": 94,
      "metadata": {},
      "outputs": [],
      "source": [
        "# \n",
        "class PreprocessDataFrame:\n",
        "    \"\"\"\n",
        "      Preprocess the dataset. \n",
        "        Dataset is evenly distributed both in the training and testing, \n",
        "        \\rto preserve the dataset proportions for better prediction and reproduceability of results.\n",
        "    \"\"\"\n",
        "    def __init__(self, dataframe, features_size, target_size, test_ratio=0.25):\n",
        "      self.dataframe = self.clean_null_values(dataframe) # determining the null values in each column and replacing them\n",
        "      # self.dataframe = dataframe\n",
        "      self.test_ratio = test_ratio\n",
        "      self.feature_vector =  self.dataframe.iloc[:, :features_size].values\n",
        "      # self.feature_vector =  self.dataframe.iloc[:, features_size:].values\n",
        "      self.target_vector = self.dataframe.iloc[:, target_size:].values\n",
        "      # self.target_vector = self.dataframe.iloc[:, :target_size].values\n",
        "\n",
        "    # clean null values\n",
        "    def clean_null_values(self, dataframe):\n",
        "      \"\"\"\n",
        "        Determining the null values in each column and replacing them using the Mean imputation method\n",
        "      \"\"\"\n",
        "      dataframe = dataframe.replace(\"?\", np.nan)\n",
        "      dataframe = dataframe.replace(\"NaN\", np.nan)\n",
        "      dataframe = dataframe.replace(\"inf\", np.inf)\n",
        "      # \n",
        "      indices_to_keep = ~dataframe.isin([np.nan, np.inf, -np.inf]).any(1)\n",
        "      dataframe = dataframe[indices_to_keep].astype(np.float64)\n",
        "\n",
        "      for column in dataframe.columns:\n",
        "        dataframe[column] = dataframe[column].fillna(dataframe[column].mean())\n",
        "      \n",
        "        return dataframe\n",
        "\n",
        "    # MinMax\n",
        "    def minMaxScaler(self, feature_range=(0, 1), binarize_y=False, classes=[1,2,3,4,5,6], **kwargs):\n",
        "      \"\"\"\n",
        "        Minmax scaler: Transform features by scaling each feature to a given range.\n",
        "      \"\"\"\n",
        "      # Get the feature vector\n",
        "      X = self.feature_vector\n",
        "\n",
        "      # Get the target vector\n",
        "      y = self.target_vector\n",
        "\n",
        "      # first binarize y; for multiclass problems\n",
        "      if (binarize_y):\n",
        "        y = label_binarize(y, classes=classes)\n",
        "\n",
        "      # splitting the dataset into  training and test set\n",
        "      X_train, X_test, y_train, y_test = train_test_split(X, y, test_size=self.test_ratio, random_state=42, stratify=y, **kwargs)\n",
        "\n",
        "      # MinMaxScaling\n",
        "      mm = MinMaxScaler(feature_range=feature_range)\n",
        "      \n",
        "      # feeding the independent data into the scaler\n",
        "    \n",
        "      # Standardize the training set\n",
        "      X_train = mm.fit_transform(X_train)\n",
        "      # X_train = mm.transform(X_train)\n",
        "\n",
        "      # Standardize the testing set\n",
        "      X_test = mm.fit_transform(X_test)\n",
        "      # X_test = mm.transform(X_test)\n",
        "      \n",
        "      return X_train, X_test, y_train, y_test\n",
        "\n",
        "# \n",
        "# "
      ]
    },
    {
      "cell_type": "code",
      "execution_count": 95,
      "metadata": {},
      "outputs": [],
      "source": [
        "# df.iloc[:, df.columns.size-13:]\n",
        "# df.iloc[:, df.columns.size-1:]\n",
        "# df.iloc[:, :df.columns.size-len(df.columns)+1]\n",
        "# \n",
        "# "
      ]
    },
    {
      "cell_type": "code",
      "execution_count": 96,
      "metadata": {},
      "outputs": [
        {
          "name": "stdout",
          "output_type": "stream",
          "text": [
            "(286, 34) (72, 34) (286, 1) (72, 1)\n"
          ]
        }
      ],
      "source": [
        "# target = ['Class']\n",
        "# \n",
        "X_train, X_test, y_train, y_test = PreprocessDataFrame(dataframe=df, test_ratio=0.20, target_size=df.columns.size-1, features_size=df.columns.size-1).minMaxScaler()\n",
        "# \n",
        "print(X_train.shape, X_test.shape, y_train.shape, y_test.shape)\n",
        "# \n",
        "# "
      ]
    },
    {
      "cell_type": "markdown",
      "metadata": {},
      "source": [
        "### Feature Selection"
      ]
    },
    {
      "cell_type": "code",
      "execution_count": 97,
      "metadata": {},
      "outputs": [],
      "source": [
        "# \n",
        "#   FeatureSelection\n",
        "# \n",
        "class FeatureSelection:\n",
        "\n",
        "    def __init__(self) -> None:\n",
        "        pass\n",
        "\n",
        "    def _label_unbinarize(self, y_train):\n",
        "        # \n",
        "        unbinarized_y_train = []\n",
        "\n",
        "        for _class in y_train.tolist():\n",
        "            if (_class.count(1) <= 0):\n",
        "                unbinarized_y_train.append([1]) \n",
        "            else:\n",
        "                unbinarized_y_train.append([_class.index(1) + 1]) \n",
        "\n",
        "        return np.array(unbinarized_y_train)\n",
        "\n",
        "    def _majority_voting(self, columns_list: list, threshold: int = 2, total_feature_len: int = 5) -> list:\n",
        "        \"\"\"\n",
        "            A simple voting technique used to combine features \\n\n",
        "            from different feature selection algorithms that were chosen by them.\n",
        "        \"\"\"\n",
        "        # flatten the list\n",
        "        flat_list = []\n",
        "        for column_list in columns_list:\n",
        "            flat_list += list(column_list) \n",
        "        # \n",
        "        # count the  number of duplicates of each feature \n",
        "        new_dict = dict(Counter(flat_list))\n",
        "        # \n",
        "        # Get the feature that met the threshold \n",
        "        new_features_list = []\n",
        "        for k in new_dict:\n",
        "            if(new_dict[k] >= threshold):\n",
        "                new_features_list.append(k)\n",
        "                # \n",
        "        # \n",
        "        return new_features_list[:total_feature_len]\n",
        "\n",
        "    def get_feature_rankings(self, dataframe_columns: list, algorithm: dict) -> dict:\n",
        "        \"\"\"\n",
        "            Get feature scores from FS algorithm such as:\n",
        "                - Mutual Info\\n\n",
        "                - Chi-squared\\n\n",
        "                - ReliefF\\n\n",
        "\n",
        "        \"\"\" \n",
        "        # \n",
        "        _emp_dict = {}\n",
        "        # \n",
        "        try:\n",
        "            # \n",
        "            algorithm_keys = list(algorithm.keys())\n",
        "            # \n",
        "            if ('Mutual Info' in algorithm_keys):\n",
        "                for col in dataframe_columns:\n",
        "                    _emp_dict[col] = list(algorithm['Mutual Info'].scores_)[dataframe_columns.index(col)]\n",
        "\n",
        "            elif ('Chi-squared' in algorithm_keys ):\n",
        "                for col in dataframe_columns:\n",
        "                    _emp_dict[col] = list(algorithm['Chi-squared'].scores_)[dataframe_columns.index(col)]\n",
        "\n",
        "            elif ('ReliefF' in algorithm_keys):\n",
        "                for col in dataframe_columns:\n",
        "                    _emp_dict[col] = list(algorithm['ReliefF'].feature_importances_)[dataframe_columns.index(col)]\n",
        "            else:\n",
        "                pass\n",
        "        except Exception as e:\n",
        "            return SystemError(e)\n",
        "\n",
        "        # sort feature scores from highest to lowest\n",
        "        if (len(_emp_dict) > 0):\n",
        "            _emp_dict = {k: v for k, v in sorted(_emp_dict.items(), key=lambda item: item[1], reverse=True)}\n",
        "            return _emp_dict\n",
        "        \n",
        "        return dict()\n",
        "\n",
        "    def _tabulate(self, _features: dict, headers: list) -> str:\n",
        "        \"\"\"\n",
        "            Tabulate Features\n",
        "        \"\"\"\n",
        "        _table = []\n",
        "        for key in _features:\n",
        "            _table.append((key, _features[key]))\n",
        "        # \n",
        "        return tabulate(_table, headers=headers)\n",
        "\n",
        "    def column_mean(self, _X_test: np.array,_column_index: int = 0) -> np.array:\n",
        "        \"\"\"\n",
        "            Replace column by the mean of the column\n",
        "        \"\"\"\n",
        "        # \n",
        "        # flip matrix [column-wise]\n",
        "        res = np.rot90(_X_test)\n",
        "        # calculate the mean\n",
        "        res[_column_index] = [(sum(res[_column_index])/len(res[_column_index])) for i in range(len(_X_test))]\n",
        "        # \n",
        "        return np.rot90(res)\n",
        "    \n",
        "\n",
        "    def _intrinsic_value(self, X, y, feature_loc, NaN=True):\n",
        "        \"\"\"\n",
        "            Compute the intrinsic value of an attribute a for given examples.\n",
        "            \\n\n",
        "            The Split Information value is a positive integer that describes the potential worth of splitting a branch from a node.\\n \n",
        "            This in turn is the intrinsic value that the random variable possesses and will be used to remove the bias in the Information Gain Ratio calculation.\\n\n",
        "            \\n\n",
        "            Intrinsic value(x) = -Sum((|S[i]|/|S|)*log2(|S[i]|/S)) for i = i to n\n",
        "            \\n\n",
        "            Where |S| is the number of possible values feature x can take, while |S[i]| is the number of actual values of feature x.\n",
        "            \\n\\n\\n\n",
        "            \n",
        "            Parameters\n",
        "            ----------\n",
        "                X : list of hashable\n",
        "                    A list of hashable objects (examples)\n",
        "                    corresponding to the given attributes a.\n",
        "                    I.e. a[i] <--> Ex[i].\n",
        "\n",
        "                y : list of hashable\n",
        "                    A list of hashable objects (attributes)\n",
        "                    corresponding to the given examples Ex.\n",
        "                    I.e. a[i] <--> Ex[i].\n",
        "\n",
        "                NaN : boolean, default=True\n",
        "                Boolean indicating how nan==nan should be evaluated.\n",
        "                Default == True to avoid division by 0 errors.\n",
        "\n",
        "            Returns\n",
        "            -------\n",
        "            result : list of float\n",
        "                Intrinsic values of attribute y for samples X.\n",
        "        \"\"\"\n",
        "        # Check whether X and y have the same lengths.\n",
        "        if (len(X) != len(y)):\n",
        "            raise ValueError(\"X and y must be of the same size.\")\n",
        "\n",
        "        # If nan is True, replace all nan values in a by the string \"__nan__\"\n",
        "        if (NaN):\n",
        "            y = ['__nan__' if isinstance(x, float) and math.isnan(x) else x for x in y]\n",
        "\n",
        "        sum_Vs = []\n",
        "        # rot_X = np.rot90(X)\n",
        "        for i in range(len(X[0])):\n",
        "            # \n",
        "            # Compute the sum of all values v in y\n",
        "            sum_v = 0\n",
        "            for v in set(y):\n",
        "                X_y_v = [x for x, t in zip(X, y) if t == v]\n",
        "                sum_v += (len(X_y_v) / len(X)) * math.log(len(X_y_v) / len(X), 2)\n",
        "        # \n",
        "        # \n",
        "        return -sum_v\n",
        "# \n",
        "# \n",
        "# \n"
      ]
    },
    {
      "cell_type": "code",
      "execution_count": 98,
      "metadata": {},
      "outputs": [],
      "source": [
        "# \n",
        "# FeatureSelectionPhase1\n",
        "# \n",
        "class FeatureSelectionPhase1(FeatureSelection):\n",
        "    \"\"\"\n",
        "        Feature Selection Phase 1\n",
        "    \"\"\"\n",
        "\n",
        "    def __init__(self,_X_train, _y_train, _dataframe_cols:list, _select_k: int = 15) -> None:\n",
        "        self._dataframe_columns = _dataframe_cols\n",
        "        self._X_train = _X_train\n",
        "        self._y_train =_y_train\n",
        "        self._select_k = _select_k  # change this to how much features you want to keep from the top ones.  \n",
        "        \n",
        "    def mutual_info(self):\n",
        "        # create the SelectKBest with the mutual info strategy.\n",
        "        # MI_selection = SelectKBest(mutual_info_classif, k=self._select_k).fit(self._X_train, self._label_unbinarize(self._y_train))\n",
        "        MI_selection = SelectKBest(mutual_info_classif, k=self._select_k).fit(self._X_train, self._y_train)\n",
        "\n",
        "        # return the k selected features.\n",
        "        # MI_features = df.iloc[:, :df.columns.size-1].columns[MI_selection.get_support()]\n",
        "\n",
        "        return self.get_feature_rankings(self._dataframe_columns, algorithm={'Mutual Info': MI_selection})\n",
        "    \n",
        "    def chi_squared(self):\n",
        "        \n",
        "        # apply the chi2 score on the data and target (target should be binary).  \n",
        "        CS_selection = SelectKBest(chi2, k=self._select_k).fit(self._X_train, self._y_train)\n",
        "        # OneVsRestClassifier\n",
        "\n",
        "        # return the k selected features and scores\n",
        "        # CS_features = df.iloc[:, :df.columns.size-1].columns[CS_selection.get_support()]\n",
        "\n",
        "        return self.get_feature_rankings(self._dataframe_columns, algorithm={'Chi-squared': CS_selection})\n",
        "\n",
        "    def reliefF(self, n_neighbors=100):\n",
        "        #  Using Manhattan distance\n",
        "        # \n",
        "        # create the SelectKBest with the mutual info strategy.\n",
        "        # RF_selection = SelectFromModel(estimator= ReliefF(n_features_to_select=self._select_k, n_neighbors=n_neighbors), max_features=self._select_k, threshold=-np.inf).fit(self._X_train, self._y_train.flatten())\n",
        "        RF_selection = ReliefF(n_features_to_select=self._select_k, n_neighbors=n_neighbors, discrete_threshold=10).fit(self._X_train, self._y_train.flatten())\n",
        "        # \n",
        "        # return the retained features.\n",
        "        # RF_features = df.iloc[:, :df.columns.size-1].columns[RF_selection.get_support()]\n",
        "        \n",
        "        return self.get_feature_rankings(self._dataframe_columns, algorithm={'ReliefF': RF_selection})\n",
        "\n",
        "    def info_gain_ratio(self):\n",
        "        \"\"\"\n",
        "            Information gain ratio is the ratio between information gain and\n",
        "            the entropy of the feature's\n",
        "            value distribution. The score was introduced in [Quinlan1986]_\n",
        "            to alleviate overestimation for multi-valued features. See `Wikipedia entry on gain ratio\n",
        "            <http://en.wikipedia.org/wiki/Information_gain_ratio>`_.\n",
        "            .. [Quinlan1986] J R Quinlan: Induction of Decision Trees, Machine Learning, 1986.\n",
        "            \\n\\n\n",
        "            Gain Ratio(y,x) = information gain(y,x)/intrinsic value(x)\n",
        "        \"\"\"\n",
        "        # \n",
        "        MI_selection = SelectKBest(mutual_info_classif, k=len(self._X_train[0])).fit(self._X_train, self._y_train)\n",
        "        # \n",
        "        info_gain_emp_dict = {}\n",
        "        for col in self._dataframe_columns:\n",
        "                    info_gain_emp_dict[col] = list(MI_selection.scores_)[self._dataframe_columns.index(col)]\n",
        "        # \n",
        "        _entropy_dist = entropy(self._X_train, base=2)\n",
        "        #\n",
        "        for key, value in info_gain_emp_dict.items():\n",
        "            intrinsic_value = _entropy_dist[list(info_gain_emp_dict.keys()).index(key)]\n",
        "            info_gain_emp_dict[key] = value/intrinsic_value\n",
        "        # \n",
        "        # select the best k features\n",
        "        # sort feature scores from highest to lowest\n",
        "        if (len(info_gain_emp_dict) > 0):\n",
        "            info_gain_emp_dict = {k: v for k, v in sorted(info_gain_emp_dict.items(), key=lambda item: item[1], reverse=True)}\n",
        "            return info_gain_emp_dict\n",
        "        # \n",
        "        return dict()\n",
        "# \n",
        "# \n",
        "# FeatureSelectionPhase2\n",
        "# \n",
        "class FeatureSelectionPhase2(FeatureSelection):\n",
        "    \"\"\"\n",
        "        Feature Selection Phase 2\n",
        "    \"\"\"\n",
        "    def __init__(self, _X_train, _y_train, _X_test, _y_test, _dataframe_columns:list, _target_col_name: str = 'Class', _select_k: int = 10) -> None:\n",
        "        self._dataframe_columns = _dataframe_columns\n",
        "        self._X_train = _X_train\n",
        "        self._y_train =_y_train\n",
        "        self._X_test = _X_test\n",
        "        self._y_test = _y_test\n",
        "        self._target_col_name = _target_col_name # 'Class', 'C-Risk Level', 'Target'\n",
        "        self._select_k = _select_k  # change this to how much features you want to keep from the top ones.\n",
        "\n",
        "    def rfe_svm(self, dataframe):\n",
        "        \"\"\"\n",
        "            RFE_SVM i.e recursive feature elimination using an SVM\n",
        "        \"\"\"\n",
        "        # \n",
        "        # create a copy of the dataframe \n",
        "        # df_copy = df[self._dataframe_columns]\n",
        "\n",
        "        # create the SelectKBest with the mutual info strategy. \n",
        "        # OneVsRestClassifier\n",
        "        # RFE_selection = RFE(estimator=SVC(kernel=\"linear\"), n_features_to_select=self._select_k, step=3).fit(self._X_train, self._label_unbinarize(self._y_train))\n",
        "        RFE_selection = RFE(estimator=SVC(kernel=\"linear\"), n_features_to_select=self._select_k, step=3).fit(self._X_train, self._y_train)\n",
        "        # RFE_selection = RFE(estimator=SVC(kernel=\"linear\"), n_features_to_select=self._select_k, step=3).fit(self._X_train, self._y_train)\n",
        "        RFE_features = dataframe.iloc[:, :dataframe.columns.size-1].columns[RFE_selection.support_]\n",
        "        # \n",
        "        # return the optimal features \n",
        "        return list(RFE_features)\n",
        "# \n",
        "# \n",
        "# "
      ]
    },
    {
      "cell_type": "markdown",
      "metadata": {},
      "source": [
        "##### Feature Selection Phase 1"
      ]
    },
    {
      "cell_type": "code",
      "execution_count": 99,
      "metadata": {},
      "outputs": [
        {
          "data": {
            "text/plain": [
              "34"
            ]
          },
          "execution_count": 99,
          "metadata": {},
          "output_type": "execute_result"
        }
      ],
      "source": [
        "# \n",
        "dataframe_cols = list(df.columns)\n",
        "dataframe_cols.remove('Class')\n",
        "# \n",
        "# dataframe_cols\n",
        "# \n",
        "len(dataframe_cols)\n",
        "# "
      ]
    },
    {
      "cell_type": "code",
      "execution_count": 100,
      "metadata": {},
      "outputs": [],
      "source": [
        "# \n",
        "FS1 = FeatureSelectionPhase1(X_train, y_train, dataframe_cols, _select_k=22)\n",
        "# \n",
        "chi_squared = FS1.chi_squared()\n",
        "# \n",
        "mutual_info = FS1.mutual_info()\n",
        "# \n",
        "gain_ratio = FS1.info_gain_ratio()\n",
        "# \n",
        "reliefF = FS1.reliefF()\n",
        "# \n",
        "# Highest to Lowest [Descending order]\n",
        "# \n",
        "# "
      ]
    },
    {
      "cell_type": "code",
      "execution_count": 101,
      "metadata": {},
      "outputs": [
        {
          "name": "stdout",
          "output_type": "stream",
          "text": [
            "Features                                    Chi-squared values\n",
            "----------------------------------------  --------------------\n",
            "band-like infiltrate                                 200.949\n",
            "perifollicular parakeratosis                         191.25\n",
            "fibrosis of the papillary dermis                     178.63\n",
            "saw-tooth appearance of retes                        173.459\n",
            "vacuolisation and damage of basal layer              169.431\n",
            "polygonal papules                                    168.737\n",
            "melanin incontinence                                 156.684\n",
            "follicular horn plug                                 151.445\n",
            "follicular papules                                   148.462\n",
            "focal hypergranulosis                                146.711\n",
            "oral mucosal involvement                             144.632\n",
            "clubbing of the rete ridges                          135.131\n",
            "thinning of the suprapapillary epidermis             128.573\n",
            "elongation of the rete ridges                        104.226\n",
            "knee and elbow involvement                            89.0203\n",
            "scalp involvement                                     82.6137\n",
            "spongiosis                                            80.1998\n",
            "munro microabcess                                     69.2331\n",
            "family history                                        56.3076\n",
            "exocytosis                                            52.2424\n",
            "spongiform pustule                                    49.0275\n",
            "disappearance of the granular layer                   48.8004\n",
            "PNL infiltrate                                        46.4385\n",
            "koebner phenomenon                                    40.1539\n",
            "eosinophils in the infiltrate                         34.1958\n",
            "itching                                               24.7162\n",
            "definite borders                                      16.8135\n",
            "parakeratosis                                         16.1037\n",
            "hyperkeratosis                                        14.0183\n",
            "scaling                                                8.79327\n",
            "Age                                                    6.83847\n",
            "erythema                                               3.96296\n",
            "acanthosis                                             2.75767\n",
            "inflammatory monoluclear inflitrate                    2.20001\n"
          ]
        }
      ],
      "source": [
        "# chi_squared\n",
        "# \n",
        "print(FS1._tabulate(chi_squared, headers = ['Features', 'Chi-squared values']))\n",
        "# \n",
        "# "
      ]
    },
    {
      "cell_type": "code",
      "execution_count": 102,
      "metadata": {},
      "outputs": [
        {
          "name": "stdout",
          "output_type": "stream",
          "text": [
            "Features                                    Mutual Information values\n",
            "----------------------------------------  ---------------------------\n",
            "clubbing of the rete ridges                                 0.576977\n",
            "elongation of the rete ridges                               0.562054\n",
            "thinning of the suprapapillary epidermis                    0.541847\n",
            "band-like infiltrate                                        0.515775\n",
            "spongiosis                                                  0.476761\n",
            "melanin incontinence                                        0.474998\n",
            "vacuolisation and damage of basal layer                     0.469425\n",
            "oral mucosal involvement                                    0.460547\n",
            "focal hypergranulosis                                       0.446948\n",
            "polygonal papules                                           0.444754\n",
            "exocytosis                                                  0.428361\n",
            "knee and elbow involvement                                  0.405805\n",
            "saw-tooth appearance of retes                               0.398822\n",
            "fibrosis of the papillary dermis                            0.360664\n",
            "scalp involvement                                           0.302524\n",
            "follicular horn plug                                        0.299694\n",
            "PNL infiltrate                                              0.279373\n",
            "koebner phenomenon                                          0.274093\n",
            "disappearance of the granular layer                         0.262739\n",
            "munro microabcess                                           0.248273\n",
            "parakeratosis                                               0.231826\n",
            "perifollicular parakeratosis                                0.211715\n",
            "Age                                                         0.20433\n",
            "follicular papules                                          0.202077\n",
            "scaling                                                     0.188934\n",
            "spongiform pustule                                          0.181898\n",
            "itching                                                     0.160763\n",
            "definite borders                                            0.155044\n",
            "family history                                              0.115886\n",
            "eosinophils in the infiltrate                               0.100028\n",
            "erythema                                                    0.0733379\n",
            "hyperkeratosis                                              0.0712674\n",
            "acanthosis                                                  0.0602627\n",
            "inflammatory monoluclear inflitrate                         0.0138299\n"
          ]
        }
      ],
      "source": [
        "# mutual_info\n",
        "# \n",
        "print(FS1._tabulate(mutual_info, headers = ['Features', 'Mutual Information values']))\n",
        "# \n",
        "# "
      ]
    },
    {
      "cell_type": "code",
      "execution_count": 103,
      "metadata": {},
      "outputs": [
        {
          "name": "stdout",
          "output_type": "stream",
          "text": [
            "Features                                    Gain Ratio values\n",
            "----------------------------------------  -------------------\n",
            "clubbing of the rete ridges                        0.0914564\n",
            "saw-tooth appearance of retes                      0.0840518\n",
            "thinning of the suprapapillary epidermis           0.0834889\n",
            "elongation of the rete ridges                      0.0825876\n",
            "band-like infiltrate                               0.0798906\n",
            "fibrosis of the papillary dermis                   0.0793034\n",
            "melanin incontinence                               0.0787146\n",
            "vacuolisation and damage of basal layer            0.077396\n",
            "oral mucosal involvement                           0.0752202\n",
            "focal hypergranulosis                              0.0726659\n",
            "spongiosis                                         0.0703622\n",
            "polygonal papules                                  0.0646294\n",
            "exocytosis                                         0.0600107\n",
            "knee and elbow involvement                         0.0577252\n",
            "munro microabcess                                  0.0569945\n",
            "scalp involvement                                  0.0536629\n",
            "follicular papules                                 0.0536498\n",
            "PNL infiltrate                                     0.0532858\n",
            "follicular horn plug                               0.0502207\n",
            "perifollicular parakeratosis                       0.0497538\n",
            "disappearance of the granular layer                0.0487451\n",
            "spongiform pustule                                 0.0419752\n",
            "koebner phenomenon                                 0.0327082\n",
            "Age                                                0.0302159\n",
            "eosinophils in the infiltrate                      0.028522\n",
            "scaling                                            0.0270896\n",
            "parakeratosis                                      0.0267061\n",
            "family history                                     0.0256681\n",
            "itching                                            0.0240214\n",
            "definite borders                                   0.0182448\n",
            "hyperkeratosis                                     0.0150952\n",
            "erythema                                           0.0123843\n",
            "acanthosis                                         0.0039406\n",
            "inflammatory monoluclear inflitrate                0.00205033\n"
          ]
        }
      ],
      "source": [
        "# # gain_ratio\n",
        "# # \n",
        "print(FS1._tabulate(gain_ratio, headers = ['Features', 'Gain Ratio values']))\n",
        "# gain_ratio\n",
        "# # "
      ]
    },
    {
      "cell_type": "code",
      "execution_count": 104,
      "metadata": {},
      "outputs": [
        {
          "name": "stdout",
          "output_type": "stream",
          "text": [
            "Features                                    ReliefF values\n",
            "----------------------------------------  ----------------\n",
            "clubbing of the rete ridges                      0.607426\n",
            "thinning of the suprapapillary epidermis         0.597234\n",
            "elongation of the rete ridges                    0.591681\n",
            "exocytosis                                       0.469176\n",
            "spongiosis                                       0.461067\n",
            "band-like infiltrate                             0.427227\n",
            "knee and elbow involvement                       0.420967\n",
            "vacuolisation and damage of basal layer          0.405501\n",
            "scalp involvement                                0.402374\n",
            "melanin incontinence                             0.396907\n",
            "saw-tooth appearance of retes                    0.395171\n",
            "polygonal papules                                0.382349\n",
            "focal hypergranulosis                            0.374674\n",
            "oral mucosal involvement                         0.359982\n",
            "PNL infiltrate                                   0.352698\n",
            "munro microabcess                                0.335055\n",
            "koebner phenomenon                               0.290922\n",
            "parakeratosis                                    0.267688\n",
            "disappearance of the granular layer              0.263268\n",
            "itching                                          0.262587\n",
            "scaling                                          0.243411\n",
            "spongiform pustule                               0.238748\n",
            "definite borders                                 0.231492\n",
            "fibrosis of the papillary dermis                 0.211023\n",
            "Age                                              0.182362\n",
            "erythema                                         0.180466\n",
            "hyperkeratosis                                   0.163372\n",
            "inflammatory monoluclear inflitrate              0.151308\n",
            "acanthosis                                       0.134889\n",
            "family history                                   0.122739\n",
            "eosinophils in the infiltrate                    0.0807058\n",
            "follicular papules                               0.0731695\n",
            "perifollicular parakeratosis                     0.0649426\n",
            "follicular horn plug                             0.0540898\n"
          ]
        }
      ],
      "source": [
        "# reliefF\n",
        "# \n",
        "print(FS1._tabulate(reliefF, headers = ['Features', 'ReliefF values']))\n",
        "# "
      ]
    },
    {
      "cell_type": "markdown",
      "metadata": {},
      "source": [
        "##### Feature Selection Phase 2"
      ]
    },
    {
      "cell_type": "code",
      "execution_count": 105,
      "metadata": {},
      "outputs": [],
      "source": [
        "# combination of features from phase 1\n",
        "# \n",
        "_phase1_features = FeatureSelection()._majority_voting([list(chi_squared.keys()), list(mutual_info.keys()), list(gain_ratio.keys()), list(reliefF.keys())], total_feature_len=22)\n",
        "# \n",
        "# \n",
        "_phase1_fs_df = df[_phase1_features + ['Class']] # + df['Class']\n",
        "# \n",
        "# len(_phase1_features), len(_phase1_fs_df.columns)\n",
        "# \n",
        "# "
      ]
    },
    {
      "cell_type": "code",
      "execution_count": 106,
      "metadata": {},
      "outputs": [
        {
          "name": "stdout",
          "output_type": "stream",
          "text": [
            "(292, 22) (74, 22) (292, 1) (74, 1)\n"
          ]
        }
      ],
      "source": [
        "# target = ['Class']\n",
        "# \n",
        "_phase1_fs_X_train, _phase1_fs_X_test, _phase1_fs_y_train, _phase1_fs_y_test = PreprocessDataFrame(dataframe=_phase1_fs_df, test_ratio=0.20, target_size=_phase1_fs_df.columns.size-1, features_size=_phase1_fs_df.columns.size-1).minMaxScaler()\n",
        "# \n",
        "print(_phase1_fs_X_train.shape, _phase1_fs_X_test.shape, _phase1_fs_y_train.shape, _phase1_fs_y_test.shape)\n",
        "# \n",
        "# "
      ]
    },
    {
      "cell_type": "code",
      "execution_count": 107,
      "metadata": {},
      "outputs": [
        {
          "data": {
            "text/plain": [
              "22"
            ]
          },
          "execution_count": 107,
          "metadata": {},
          "output_type": "execute_result"
        }
      ],
      "source": [
        "_phase1_fs_dataframe_cols = list(_phase1_fs_df.columns)\n",
        "_phase1_fs_dataframe_cols.remove('Class')\n",
        "# \n",
        "# _phase1_fs_dataframe_cols\n",
        "# \n",
        "len(_phase1_fs_dataframe_cols)\n",
        "# "
      ]
    },
    {
      "cell_type": "code",
      "execution_count": 108,
      "metadata": {},
      "outputs": [],
      "source": [
        "# \n",
        "FS2 = FeatureSelectionPhase2(_phase1_fs_X_train, _phase1_fs_y_train, _phase1_fs_X_test, _phase1_fs_y_test, _phase1_fs_dataframe_cols, _select_k=12)\n",
        "# \n",
        "rfe_svm = FS2.rfe_svm(_phase1_fs_df)\n",
        "# "
      ]
    },
    {
      "cell_type": "code",
      "execution_count": 109,
      "metadata": {},
      "outputs": [
        {
          "data": {
            "text/plain": [
              "(['band-like infiltrate',\n",
              "  'perifollicular parakeratosis',\n",
              "  'fibrosis of the papillary dermis',\n",
              "  'polygonal papules',\n",
              "  'follicular papules',\n",
              "  'focal hypergranulosis',\n",
              "  'clubbing of the rete ridges',\n",
              "  'thinning of the suprapapillary epidermis',\n",
              "  'elongation of the rete ridges',\n",
              "  'spongiosis',\n",
              "  'exocytosis',\n",
              "  'disappearance of the granular layer'],\n",
              " 12)"
            ]
          },
          "execution_count": 109,
          "metadata": {},
          "output_type": "execute_result"
        }
      ],
      "source": [
        "# rfe_svm\n",
        "# \n",
        "rfe_svm, len(rfe_svm)\n",
        "# "
      ]
    },
    {
      "cell_type": "markdown",
      "metadata": {},
      "source": [
        "### Classification Learning Algorithms"
      ]
    },
    {
      "cell_type": "code",
      "execution_count": 110,
      "metadata": {},
      "outputs": [],
      "source": [
        "# \n",
        "# SVM with different kernels such as RBF, Polynomial, Sigmoid & Linear\n",
        "# Ensemble: Bagging, Boosting, Stacking (Logistic Regression as Meta Model)\n",
        "# [https://towardsdatascience.com/gridsearchcv-for-beginners-db48a90114ee]\n",
        "# \n",
        "# https://naeglelab.github.io/OpenEnsembles/OpenEnsembles.html\n",
        "# "
      ]
    },
    {
      "cell_type": "code",
      "execution_count": 111,
      "metadata": {},
      "outputs": [
        {
          "data": {
            "text/plain": [
              "(12, 13)"
            ]
          },
          "execution_count": 111,
          "metadata": {},
          "output_type": "execute_result"
        }
      ],
      "source": [
        "# \n",
        "# combination of features from phase 2\n",
        "# \n",
        "_phase2_features = rfe_svm\n",
        "# _phase2_features = FeatureSelection()._majority_voting([rfe_svm], total_feature_len=10)\n",
        "# \n",
        "_phase2_fs_df = df[_phase2_features + ['Class']] # + df['Class']\n",
        "# \n",
        "len(_phase2_features), len(_phase2_fs_df.columns)\n",
        "# "
      ]
    },
    {
      "cell_type": "code",
      "execution_count": 112,
      "metadata": {},
      "outputs": [
        {
          "name": "stdout",
          "output_type": "stream",
          "text": [
            "(208, 12) (158, 12) (208, 1) (158, 1)\n"
          ]
        }
      ],
      "source": [
        "# target = ['Class']\n",
        "# \n",
        "_phase2_fs_X_train, _phase2_fs_X_test, _phase2_fs_y_train, _phase2_fs_y_test = PreprocessDataFrame(dataframe=_phase2_fs_df, test_ratio=0.43, target_size=_phase2_fs_df.columns.size-1, features_size=_phase2_fs_df.columns.size-1).minMaxScaler()\n",
        "# \n",
        "print(_phase2_fs_X_train.shape, _phase2_fs_X_test.shape, _phase2_fs_y_train.shape, _phase2_fs_y_test.shape)\n",
        "# \n",
        "# "
      ]
    },
    {
      "cell_type": "markdown",
      "metadata": {},
      "source": [
        "#### Base Models"
      ]
    },
    {
      "cell_type": "markdown",
      "metadata": {},
      "source": [
        "##### Support Vector Machine (SVM-Linear)"
      ]
    },
    {
      "cell_type": "code",
      "execution_count": 113,
      "metadata": {},
      "outputs": [],
      "source": [
        "parameters = {\n",
        "    'kernel':['linear'], \n",
        "    'C':[0.1, 1, 10, 100, 1000, 10000],\n",
        "    'gamma':[0.00001, 0.0001, 0.001, 0.01],\n",
        "    'random_state': [np.random.RandomState(0)],\n",
        "    'probability':[True]\n",
        "    }\n",
        "# \n",
        "#\n",
        "# Exhaustive search over specified parameter values for an estimator.\n",
        "# linear_svm_clf = OneVsRestClassifier(GridSearchCV(SVC(), parameters, cv=5, scoring='roc_auc')).fit(_phase2_fs_X_train, _phase2_fs_y_train) # (X_train, y_train)\n",
        "linear_svm_clf = GridSearchCV(SVC(), parameters, cv=5, scoring='accuracy').fit(_phase2_fs_X_train, _phase2_fs_y_train) # (X_train, y_train)\n",
        "# \n",
        "# svm_clf.score(_phase2_fs_X_test, _phase2_fs_y_test) # (X_test, y_test)\n",
        "# "
      ]
    },
    {
      "cell_type": "markdown",
      "metadata": {},
      "source": [
        "##### Support Vector Machine (SVM-RBF)"
      ]
    },
    {
      "cell_type": "code",
      "execution_count": 114,
      "metadata": {},
      "outputs": [],
      "source": [
        "parameters = {\n",
        "    'kernel':['rbf'], \n",
        "    'C':[0.1, 1, 10, 100, 1000, 10000],\n",
        "    'gamma':[0.00001, 0.0001, 0.001, 0.01],\n",
        "    'random_state': [np.random.RandomState(0)],\n",
        "    'probability':[True]\n",
        "    }\n",
        "# \n",
        "#\n",
        "# rbf_svm_clf = SVC()\n",
        "# Exhaustive search over specified parameter values for an estimator.\n",
        "rbf_svm_clf = OneVsRestClassifier(GridSearchCV(SVC(), parameters, cv=5, scoring='roc_auc')).fit(_phase2_fs_X_train, _phase2_fs_y_train) # (X_train, y_train)\n",
        "# \n",
        "# svm_clf.score(_phase2_fs_X_test, _phase2_fs_y_test) # (X_test, y_test)\n",
        "# "
      ]
    },
    {
      "cell_type": "markdown",
      "metadata": {},
      "source": [
        "##### Support Vector Machine (SVM-POLY)"
      ]
    },
    {
      "cell_type": "code",
      "execution_count": 115,
      "metadata": {},
      "outputs": [],
      "source": [
        "parameters = {\n",
        "    'kernel':['poly'], \n",
        "    'C':[0.1, 1, 10, 100, 1000, 10000],\n",
        "    'gamma':[0.00001, 0.0001, 0.001, 0.01],\n",
        "    'random_state': [np.random.RandomState(0)],\n",
        "    'probability':[True]\n",
        "    }\n",
        "# \n",
        "#\n",
        "# poly_svm_clf = SVC()\n",
        "# Exhaustive search over specified parameter values for an estimator.\n",
        "poly_svm_clf = OneVsRestClassifier(GridSearchCV(SVC(), parameters, cv=5, scoring='roc_auc')).fit(_phase2_fs_X_train, _phase2_fs_y_train) # (X_train, y_train)\n",
        "# \n",
        "# svm_clf.score(_phase2_fs_X_test, _phase2_fs_y_test) # (X_test, y_test)\n",
        "# "
      ]
    },
    {
      "cell_type": "markdown",
      "metadata": {},
      "source": [
        "##### Support Vector Machine (SVM-SIGMOID)"
      ]
    },
    {
      "cell_type": "code",
      "execution_count": 116,
      "metadata": {},
      "outputs": [],
      "source": [
        "parameters = {\n",
        "    'kernel':['sigmoid'], \n",
        "    'C':[0.1, 1, 10, 100, 1000, 10000],\n",
        "    'gamma':[0.00001, 0.0001, 0.001, 0.01],\n",
        "    'random_state': [np.random.RandomState(0)],\n",
        "    'probability':[True]\n",
        "    }\n",
        "# \n",
        "#\n",
        "# sigmoid_svm_clf = SVC()\n",
        "# Exhaustive search over specified parameter values for an estimator.\n",
        "sigmoid_svm_clf = OneVsRestClassifier(GridSearchCV(SVC(), parameters, cv=5, scoring='roc_auc')).fit(_phase2_fs_X_train, _phase2_fs_y_train) # (X_train, y_train)\n",
        "# \n",
        "# svm_clf.score(_phase2_fs_X_test, _phase2_fs_y_test) # (X_test, y_test)\n",
        "# "
      ]
    },
    {
      "cell_type": "markdown",
      "metadata": {},
      "source": [
        "#### Ensemble Models"
      ]
    },
    {
      "cell_type": "markdown",
      "metadata": {},
      "source": [
        "##### Bagging"
      ]
    },
    {
      "cell_type": "code",
      "execution_count": 117,
      "metadata": {},
      "outputs": [],
      "source": [
        "# BaggingClassifier\n",
        "# [bag_linear_svm_clf]\n",
        "# \n",
        "# OneVsRestClassifier(SVC())\n",
        "# \n",
        "bag_linear_svm_clf = OneVsRestClassifier(BaggingClassifier(base_estimator=SVC(kernel='linear'), n_estimators=10, random_state=0)).fit(_phase2_fs_X_train, _phase2_fs_y_train)\n",
        "# \n",
        "bag_rbf_svm_clf = OneVsRestClassifier(BaggingClassifier(base_estimator=SVC(kernel='rbf'), n_estimators=10, random_state=0)).fit(_phase2_fs_X_train, _phase2_fs_y_train)\n",
        "# \n",
        "bag_poly_svm_clf = OneVsRestClassifier(BaggingClassifier(base_estimator=SVC(kernel='poly'), n_estimators=10, random_state=0)).fit(_phase2_fs_X_train, _phase2_fs_y_train)\n",
        "# \n",
        "bag_sigmoid_svm_clf = OneVsRestClassifier(BaggingClassifier(base_estimator=SVC(kernel='sigmoid'), n_estimators=10, random_state=0)).fit(_phase2_fs_X_train, _phase2_fs_y_train)\n",
        "# \n",
        "# "
      ]
    },
    {
      "cell_type": "markdown",
      "metadata": {},
      "source": [
        "##### Boosting"
      ]
    },
    {
      "cell_type": "code",
      "execution_count": 118,
      "metadata": {},
      "outputs": [],
      "source": [
        "# Adaboost\n",
        "# BaggingClassifier\n",
        "# [boost_linear_svm_clf]\n",
        "# \n",
        "boost_linear_svm_clf = OneVsRestClassifier(AdaBoostClassifier(base_estimator=SVC(kernel='linear'), n_estimators=10, algorithm='SAMME', random_state=0)).fit(_phase2_fs_X_train, _phase2_fs_y_train)\n",
        "# \n",
        "boost_rbf_svm_clf = OneVsRestClassifier(AdaBoostClassifier(base_estimator=SVC(kernel='rbf'), n_estimators=10, algorithm='SAMME', random_state=0)).fit(_phase2_fs_X_train, _phase2_fs_y_train)\n",
        "# \n",
        "boost_poly_svm_clf = OneVsRestClassifier(AdaBoostClassifier(base_estimator=SVC(kernel='poly'), n_estimators=10, algorithm='SAMME', random_state=0)).fit(_phase2_fs_X_train, _phase2_fs_y_train)\n",
        "# \n",
        "boost_sigmoid_svm_clf = OneVsRestClassifier(AdaBoostClassifier(base_estimator=SVC(kernel='sigmoid'), n_estimators=10, algorithm='SAMME', random_state=0)).fit(_phase2_fs_X_train, _phase2_fs_y_train)\n",
        "# \n",
        "# "
      ]
    },
    {
      "cell_type": "markdown",
      "metadata": {},
      "source": [
        "##### Stacking [with Logistic Regression as Meta Model]"
      ]
    },
    {
      "cell_type": "code",
      "execution_count": 119,
      "metadata": {},
      "outputs": [],
      "source": [
        "# Stacking\n",
        "# \n",
        "# \n",
        "estimators = [\n",
        "    ('Linear SVC', SVC(kernel='linear')),\n",
        "    ('RBF SVC', SVC(kernel='rbf')),\n",
        "    ('Poly SVC', SVC(kernel='poly')),\n",
        "    ('Sigmoid SVC', SVC(kernel='sigmoid')),\n",
        "]\n",
        "# \n",
        "# \n",
        "stacking_clf = OneVsRestClassifier(StackingClassifier(\n",
        "     estimators=estimators, final_estimator=LogisticRegression(random_state=0)\n",
        " )).fit(_phase2_fs_X_train, _phase2_fs_y_train)\n",
        "# \n",
        "# \n"
      ]
    },
    {
      "cell_type": "markdown",
      "metadata": {},
      "source": [
        "#### Evaluation & Visualization"
      ]
    },
    {
      "cell_type": "code",
      "execution_count": 120,
      "metadata": {},
      "outputs": [],
      "source": [
        "# \n",
        "# \n",
        "# confusion matrix \n",
        "# accuracy\n",
        "# sensitivity\n",
        "# specificity\n",
        "# Recall\n",
        "# Precision\n",
        "# \n",
        "# \n",
        "# FP = cnf_matrix.sum(axis=0) - np.diag(cnf_matrix) \n",
        "# FN = cnf_matrix.sum(axis=1) - np.diag(cnf_matrix)\n",
        "# TP = np.diag(cnf_matrix)\n",
        "# TN = cnf_matrix.sum() - (FP + FN + TP)\n",
        "# FP = FP.astype(float)\n",
        "# FN = FN.astype(float)\n",
        "# TP = TP.astype(float)\n",
        "# TN = TN.astype(float)\n",
        "# \n",
        "# # Sensitivity, hit rate, recall, or true positive rate\n",
        "# TPR = TP/(TP+FN)\n",
        "# # Specificity or true negative rate\n",
        "# TNR = TN/(TN+FP) \n",
        "# # Precision or positive predictive value\n",
        "# PPV = TP/(TP+FP)\n",
        "# # Negative predictive value\n",
        "# NPV = TN/(TN+FN)\n",
        "# # Fall out or false positive rate\n",
        "# FPR = FP/(FP+TN)\n",
        "# # False negative rate\n",
        "# FNR = FN/(TP+FN)\n",
        "# # False discovery rate\n",
        "# FDR = FP/(TP+FP)\n",
        "# # Overall accuracy for each class\n",
        "# ACC = (TP+TN)/(TP+FP+FN+TN)\n",
        "# \n",
        "# \n",
        "#   Model Evaluation and Visualization\n",
        "# \n",
        "class ModelEvaluationAndVisualization:\n",
        "    def __init__(self, model_clf, y_test: np.array, y_pred: np.array, labels=[1,2,3,4,5,6]) -> None:\n",
        "        self.model_clf = model_clf\n",
        "        self._y_test = y_test\n",
        "        self._y_pred = y_pred # predictions\n",
        "        self._labels = labels\n",
        "        # \n",
        "        self.cnf_matrix = self.confusion_matrix()\n",
        "        self.FP = self.cnf_matrix.sum(axis=0) - np.diag(self.cnf_matrix) \n",
        "        self.FN = self.cnf_matrix.sum(axis=1) - np.diag(self.cnf_matrix)\n",
        "        self.TP = np.diag(self.cnf_matrix)\n",
        "        self.TN = self.cnf_matrix.sum() - (self.FP + self.FN + self.TP)\n",
        "        self.FP = self.FP.astype(float)\n",
        "        self.FN = self.FN.astype(float)\n",
        "        self.TP = self.TP.astype(float)\n",
        "        self.TN = self.TN.astype(float)\n",
        "\n",
        "    def confusion_matrix(self, **kwargs):\n",
        "        \"\"\"\n",
        "            Confusion Matrix\n",
        "            https://medium.com/@dtuk81/confusion-matrix-visualization-fc31e3f30fea\n",
        "        \"\"\"\n",
        "        # \n",
        "        return confusion_matrix(self._y_test, self._y_pred, labels=self.model_clf.classes_, **kwargs)\n",
        "\n",
        "    def display_confusion_matrix(self, **kwargs):\n",
        "        # \n",
        "        cf_matrix = self.confusion_matrix()\n",
        "        # \n",
        "        # display\n",
        "        # \n",
        "        group_names = ['True Neg','False Pos','False Neg','True Pos']\n",
        "        group_counts = [\"{0:0.0f}\".format(value) for value in\n",
        "                        cf_matrix.flatten()]\n",
        "        group_percentages = [\"{0:.2%}\".format(value) for value in\n",
        "                             cf_matrix.flatten()/np.sum(cf_matrix)]\n",
        "        labels = [f\"{v1}\\n{v2}\\n{v3}\" for v1, v2, v3 in\n",
        "                  zip(group_names,group_counts,group_percentages)]\n",
        "        labels = np.asarray(labels).reshape(2,2)\n",
        "        \n",
        "        # \n",
        "        return sns.heatmap(cf_matrix, annot=True, fmt='', cmap='Blues', cbar=True, **kwargs)\n",
        "\n",
        "    def npv(self):\n",
        "        \"\"\"\n",
        "            Negative predictive value\n",
        "            NPV = TN/(TN+FN)\n",
        "        \"\"\"\n",
        "        return self.TN/(self.TN+self.FN)\n",
        "\n",
        "    def fpr(self):\n",
        "        \"\"\"\n",
        "            Fall out or false positive rate\n",
        "            FPR = FP/(FP+TN)\n",
        "        \"\"\"\n",
        "        return self.FP/(self.FP+self.TN)\n",
        "\n",
        "    def fnr(self):\n",
        "        \"\"\"\n",
        "            False negative rate\n",
        "            FNR = FN/(TP+FN)\n",
        "        \"\"\"\n",
        "        return self.FN/(self.TP+self.FN)\n",
        "\n",
        "    def fdr(self):\n",
        "        \"\"\"\n",
        "            False discovery rate\n",
        "            FDR = FP/(TP+FP)\n",
        "        \"\"\"\n",
        "        return self.FP/(self.TP+self.FP)\n",
        "\n",
        "    def accuracy_score(self):\n",
        "        \"\"\"\n",
        "            Accuracy score\n",
        "            Formula => Overall accuracy for each class = (TP+TN)/(TP+FP+FN+TN)\n",
        "        \"\"\"\n",
        "        # return (self.TP+self.TN)/(self.TP+self.FP+self.FN+self.TN)\n",
        "        return accuracy_score(self._y_test, self._y_pred)\n",
        "\n",
        "    def sensitivity(self):\n",
        "        \"\"\"\n",
        "            Formula => Sensitivity(TPR) = TP/(TP+FN)\n",
        "        \"\"\"\n",
        "        return self.TP/(self.TP+self.FN)\n",
        "\n",
        "    def specificity(self):\n",
        "        \"\"\"\n",
        "            Formula => Specificity(TNR) = TN/(TN+FP)\n",
        "        \"\"\"\n",
        "        return self.TN/(self.TN+self.FP)\n",
        "\n",
        "    def precision_score(self):\n",
        "        \"\"\"\n",
        "            Formula => Precision = Sum c in C TruePositives_c / Sum c in C (TruePositives_c + FalsePositives_c)\n",
        "        \"\"\"\n",
        "        return precision_score(self._y_test, self._y_pred, labels=self._labels, average='micro')\n",
        "\n",
        "    def recall_score(self):\n",
        "        \"\"\"\n",
        "            Formula => Recall = Sum c in C TruePositives_c / Sum c in C (TruePositives_c + FalseNegatives_c)\n",
        "        \"\"\"\n",
        "        # calculate recall\n",
        "        return recall_score(self._y_test, self._y_pred, labels=self._labels, average='micro')\n",
        "\n",
        "    def f1_score(self):\n",
        "        \"\"\"\n",
        "            Formula => F-Measure = (2 * Precision * Recall) / (Precision + Recall)\n",
        "        \"\"\"\n",
        "        return (2 * self.precision_score() * self.recall_score())/(self.precision_score() * self.recall_score())\n",
        "\n",
        "    def support(self):\n",
        "        \"\"\"\n",
        "            Support is the number of occurrences of each class in y_true\n",
        "        \"\"\"\n",
        "        _,_,_,_support = precision_recall_fscore_support(self._y_test, self._y_pred)\n",
        "        # \n",
        "        return list(_support)\n",
        "\n",
        "    def precision_recall_fscore_support(self):\n",
        "        \"\"\"\n",
        "            Sklearn's Precision/Recall/F1 Score/Support function\n",
        "        \"\"\"\n",
        "        _precision, _recall, _fscore ,_support = precision_recall_fscore_support(self._y_test, self._y_pred)\n",
        "        # \n",
        "        return mean(list(_precision)), mean(list(_recall)), mean(list(_fscore)), list(_support)\n",
        "# \n",
        "# \n",
        "# \n",
        "# \n",
        "def flatten(t):\n",
        "    \"\"\"\n",
        "        Flatten\n",
        "    \"\"\"\n",
        "    return [item for sublist in t for item in sublist]\n",
        "# \n",
        "# \n",
        "# \n",
        "def merge_dicts(_list_of_dicts: list) -> dict:\n",
        "    \"\"\"\n",
        "        Merge Dicts\n",
        "    \"\"\"\n",
        "    # \n",
        "    _dicts_keys = flatten([list(_dict.keys()) for _dict in _list_of_dicts])\n",
        "    # \n",
        "    d = {}\n",
        "    # \n",
        "    for key in set(_dicts_keys):\n",
        "        for _dict in _list_of_dicts:\n",
        "            try:\n",
        "                d.setdefault(key, []).append(_dict[key])\n",
        "            except KeyError:\n",
        "                pass\n",
        "    # \n",
        "    return d\n",
        "# \n",
        "# \n",
        "# \n",
        "# FS1 methods:\n",
        "# chi_squared\n",
        "# mutual_info\n",
        "# gain_ratio\n",
        "# reliefF\n",
        "# \n",
        "# \n",
        "# Create Data\n",
        "#\n",
        "models_x = ['Linear SVM', 'Rbf SVM', 'Poly SVM', 'Sigmoid SVM', 'Bag(Linear SVM)', 'Bag(Rbf SVM)', 'Bag(Poly SVM)', 'Bag(Sigmoid SVM)', 'Boost(Linear SVM)', 'Boost(Rbf SVM)', 'Boost(Poly SVM)', 'Boost(Sigmoid SVM)', 'Stacking[LogReg]'] # x\n",
        "model_clfs = [linear_svm_clf, rbf_svm_clf, poly_svm_clf, sigmoid_svm_clf, bag_linear_svm_clf, bag_rbf_svm_clf, bag_poly_svm_clf, bag_sigmoid_svm_clf, boost_linear_svm_clf, boost_rbf_svm_clf, boost_poly_svm_clf, boost_sigmoid_svm_clf, stacking_clf]# y = np.random.randint(low=0, high=100, size=10)\n",
        "# \n",
        "# "
      ]
    },
    {
      "cell_type": "markdown",
      "metadata": {},
      "source": [
        "##### Feature Selection Phase 1"
      ]
    },
    {
      "cell_type": "code",
      "execution_count": 121,
      "metadata": {},
      "outputs": [
        {
          "data": {
            "image/png": "[encoded data removed]",
            "text/plain": [
              "<Figure size 864x432 with 1 Axes>"
            ]
          },
          "metadata": {
            "needs_background": "light"
          },
          "output_type": "display_data"
        }
      ],
      "source": [
        "# \n",
        "# chi_squared\n",
        "# \n",
        "chi_squared_x = list(chi_squared.keys())\n",
        "# \n",
        "chi_squared_y = list(chi_squared.values())\n",
        "# \n",
        "# Simple Bar Plot\n",
        "# plt.figure(figsize=(6,12))\n",
        "plt.figure(figsize=(12,6))\n",
        "# plt.barh(chi_squared_x chi_squared_y)\n",
        "plt.bar(chi_squared_x, chi_squared_y)\n",
        "plt.xlabel(\"Features\")\n",
        "plt.xticks(rotation=90)\n",
        "plt.ylabel('Scores')\n",
        "plt.title('Chi Squared')\n",
        "plt.show()\n",
        "# \n",
        "# "
      ]
    },
    {
      "cell_type": "code",
      "execution_count": 122,
      "metadata": {},
      "outputs": [
        {
          "data": {
            "image/png": "[encoded data removed]",
            "text/plain": [
              "<Figure size 864x432 with 1 Axes>"
            ]
          },
          "metadata": {
            "needs_background": "light"
          },
          "output_type": "display_data"
        }
      ],
      "source": [
        "# \n",
        "# mutual_info\n",
        "# \n",
        "mutual_info_x = list(mutual_info.keys())\n",
        "# \n",
        "mutual_info_y = list(mutual_info.values())\n",
        "# \n",
        "# Simple Bar Plot\n",
        "# plt.figure(figsize=(6,12))\n",
        "plt.figure(figsize=(12,6))\n",
        "# plt.barh(chi_squared_x chi_squared_y)\n",
        "plt.bar(chi_squared_x, chi_squared_y)\n",
        "plt.xlabel(\"Features\")\n",
        "plt.xticks(rotation=90)\n",
        "plt.ylabel('Scores')\n",
        "plt.title('Mutual Info')\n",
        "plt.show()\n",
        "# \n",
        "# "
      ]
    },
    {
      "cell_type": "code",
      "execution_count": 123,
      "metadata": {},
      "outputs": [
        {
          "data": {
            "image/png": "[encoded data removed]",
            "text/plain": [
              "<Figure size 864x432 with 1 Axes>"
            ]
          },
          "metadata": {
            "needs_background": "light"
          },
          "output_type": "display_data"
        }
      ],
      "source": [
        "# \n",
        "# gain_ratio\n",
        "# \n",
        "gain_ratio_x = list(gain_ratio.keys())\n",
        "# \n",
        "gain_ratio_y = list(gain_ratio.values())\n",
        "# \n",
        "# Simple Bar Plot\n",
        "# plt.figure(figsize=(6,12))\n",
        "plt.figure(figsize=(12,6))\n",
        "# plt.barh(chi_squared_x chi_squared_y)\n",
        "plt.bar(chi_squared_x, chi_squared_y)\n",
        "plt.xlabel(\"Features\")\n",
        "plt.xticks(rotation=90)\n",
        "plt.ylabel('Scores')\n",
        "plt.title('Gain Ratio')\n",
        "plt.show()\n",
        "# \n",
        "# "
      ]
    },
    {
      "cell_type": "code",
      "execution_count": 124,
      "metadata": {},
      "outputs": [
        {
          "data": {
            "image/png": "[encoded data removed]",
            "text/plain": [
              "<Figure size 864x432 with 1 Axes>"
            ]
          },
          "metadata": {
            "needs_background": "light"
          },
          "output_type": "display_data"
        }
      ],
      "source": [
        "# \n",
        "# reliefF\n",
        "# \n",
        "reliefF_x = list(reliefF.keys())\n",
        "# \n",
        "reliefF_y = list(reliefF.values())\n",
        "# \n",
        "# Simple Bar Plot\n",
        "# plt.figure(figsize=(6,12))\n",
        "plt.figure(figsize=(12,6))\n",
        "# plt.barh(chi_squared_x chi_squared_y)\n",
        "plt.bar(chi_squared_x, chi_squared_y)\n",
        "plt.xlabel(\"Features\")\n",
        "plt.xticks(rotation=90)\n",
        "plt.ylabel('Scores')\n",
        "plt.title('ReliefF')\n",
        "plt.show()\n",
        "# \n",
        "# "
      ]
    },
    {
      "cell_type": "code",
      "execution_count": 125,
      "metadata": {},
      "outputs": [
        {
          "data": {
            "text/html": [
              "<div>\n",
              "<style scoped>\n",
              "    .dataframe tbody tr th:only-of-type {\n",
              "        vertical-align: middle;\n",
              "    }\n",
              "\n",
              "    .dataframe tbody tr th {\n",
              "        vertical-align: top;\n",
              "    }\n",
              "\n",
              "    .dataframe thead th {\n",
              "        text-align: right;\n",
              "    }\n",
              "</style>\n",
              "<table border=\"1\" class=\"dataframe\">\n",
              "  <thead>\n",
              "    <tr style=\"text-align: right;\">\n",
              "      <th></th>\n",
              "      <th>Features</th>\n",
              "      <th>Chi-Squared</th>\n",
              "      <th>Mutual Info</th>\n",
              "      <th>Gain Ratio</th>\n",
              "      <th>ReliefF</th>\n",
              "    </tr>\n",
              "  </thead>\n",
              "  <tbody>\n",
              "    <tr>\n",
              "      <th>0</th>\n",
              "      <td>munro microabcess</td>\n",
              "      <td>69.233098</td>\n",
              "      <td>0.248273</td>\n",
              "      <td>0.056995</td>\n",
              "      <td>0.335055</td>\n",
              "    </tr>\n",
              "    <tr>\n",
              "      <th>1</th>\n",
              "      <td>hyperkeratosis</td>\n",
              "      <td>14.018281</td>\n",
              "      <td>0.071267</td>\n",
              "      <td>0.015095</td>\n",
              "      <td>0.163372</td>\n",
              "    </tr>\n",
              "    <tr>\n",
              "      <th>2</th>\n",
              "      <td>elongation of the rete ridges</td>\n",
              "      <td>104.226295</td>\n",
              "      <td>0.562054</td>\n",
              "      <td>0.082588</td>\n",
              "      <td>0.591681</td>\n",
              "    </tr>\n",
              "    <tr>\n",
              "      <th>3</th>\n",
              "      <td>disappearance of the granular layer</td>\n",
              "      <td>48.800402</td>\n",
              "      <td>0.262739</td>\n",
              "      <td>0.048745</td>\n",
              "      <td>0.263268</td>\n",
              "    </tr>\n",
              "    <tr>\n",
              "      <th>4</th>\n",
              "      <td>exocytosis</td>\n",
              "      <td>52.242401</td>\n",
              "      <td>0.428361</td>\n",
              "      <td>0.060011</td>\n",
              "      <td>0.469176</td>\n",
              "    </tr>\n",
              "  </tbody>\n",
              "</table>\n",
              "</div>"
            ],
            "text/plain": [
              "                              Features  Chi-Squared  Mutual Info  Gain Ratio  \\\n",
              "0                    munro microabcess    69.233098     0.248273    0.056995   \n",
              "1                       hyperkeratosis    14.018281     0.071267    0.015095   \n",
              "2        elongation of the rete ridges   104.226295     0.562054    0.082588   \n",
              "3  disappearance of the granular layer    48.800402     0.262739    0.048745   \n",
              "4                           exocytosis    52.242401     0.428361    0.060011   \n",
              "\n",
              "    ReliefF  \n",
              "0  0.335055  \n",
              "1  0.163372  \n",
              "2  0.591681  \n",
              "3  0.263268  \n",
              "4  0.469176  "
            ]
          },
          "execution_count": 125,
          "metadata": {},
          "output_type": "execute_result"
        }
      ],
      "source": [
        "# \n",
        "# \n",
        "merge_dicts = merge_dicts([chi_squared, mutual_info, gain_ratio, reliefF])\n",
        "# print(merge_dicts)\n",
        "# \n",
        "# merge_dicts\n",
        "# \n",
        "# print(FS1._tabulate(merge_dicts, headers = ['Features', 'Feature Selection values [Chi-Squared, Mutual Info, Gain Ratio, ReliefF]']))    \n",
        "# \n",
        "# \n",
        "fs_df = pd.DataFrame([[k] + v for k, v in merge_dicts.items()],\n",
        "                    columns=['Features', 'Chi-Squared', 'Mutual Info', 'Gain Ratio', 'ReliefF'])\n",
        "# \n",
        "# \n",
        "# plot grouped bar chart\n",
        "# fs_df.plot(x='Features',\n",
        "#         kind='bar',\n",
        "#         stacked=False,\n",
        "#         title='Grouped Bar Graph with dataframe')\n",
        "# \n",
        "fs_df.head(5)\n",
        "# fs_df.to_excel(\"results/FeatureSelectionTable-rfe_svm.xlsx\")\n",
        "# \n",
        "# "
      ]
    },
    {
      "cell_type": "markdown",
      "metadata": {},
      "source": [
        "##### Confusion Matrix"
      ]
    },
    {
      "cell_type": "code",
      "execution_count": 126,
      "metadata": {},
      "outputs": [
        {
          "data": {
            "text/plain": [
              "<AxesSubplot:>"
            ]
          },
          "execution_count": 126,
          "metadata": {},
          "output_type": "execute_result"
        },
        {
          "data": {
            "image/png": "[encoded data removed]",
            "text/plain": [
              "<Figure size 432x288 with 2 Axes>"
            ]
          },
          "metadata": {
            "needs_background": "light"
          },
          "output_type": "display_data"
        }
      ],
      "source": [
        "# \n",
        "# SVM-Linear\n",
        "# \n",
        "ModelEvaluationAndVisualization(linear_svm_clf, _phase2_fs_y_test, linear_svm_clf.predict(_phase2_fs_X_test)).display_confusion_matrix()\n",
        "# "
      ]
    },
    {
      "cell_type": "code",
      "execution_count": 127,
      "metadata": {},
      "outputs": [
        {
          "data": {
            "text/plain": [
              "<AxesSubplot:>"
            ]
          },
          "execution_count": 127,
          "metadata": {},
          "output_type": "execute_result"
        },
        {
          "data": {
            "image/png": "[encoded data removed]",
            "text/plain": [
              "<Figure size 432x288 with 2 Axes>"
            ]
          },
          "metadata": {
            "needs_background": "light"
          },
          "output_type": "display_data"
        }
      ],
      "source": [
        "# \n",
        "# SVM-Rbf\n",
        "# \n",
        "ModelEvaluationAndVisualization(rbf_svm_clf, _phase2_fs_y_test, rbf_svm_clf.predict(_phase2_fs_X_test)).display_confusion_matrix()\n",
        "# "
      ]
    },
    {
      "cell_type": "code",
      "execution_count": 128,
      "metadata": {},
      "outputs": [
        {
          "data": {
            "text/plain": [
              "<AxesSubplot:>"
            ]
          },
          "execution_count": 128,
          "metadata": {},
          "output_type": "execute_result"
        },
        {
          "data": {
            "image/png": "[encoded data removed]",
            "text/plain": [
              "<Figure size 432x288 with 2 Axes>"
            ]
          },
          "metadata": {
            "needs_background": "light"
          },
          "output_type": "display_data"
        }
      ],
      "source": [
        "# \n",
        "# SVM-Poly\n",
        "# \n",
        "ModelEvaluationAndVisualization(poly_svm_clf, _phase2_fs_y_test, poly_svm_clf.predict(_phase2_fs_X_test)).display_confusion_matrix()\n",
        "# "
      ]
    },
    {
      "cell_type": "code",
      "execution_count": 129,
      "metadata": {},
      "outputs": [
        {
          "data": {
            "text/plain": [
              "<AxesSubplot:>"
            ]
          },
          "execution_count": 129,
          "metadata": {},
          "output_type": "execute_result"
        },
        {
          "data": {
            "image/png": "[encoded data removed]",
            "text/plain": [
              "<Figure size 432x288 with 2 Axes>"
            ]
          },
          "metadata": {
            "needs_background": "light"
          },
          "output_type": "display_data"
        }
      ],
      "source": [
        "# \n",
        "# SVM-Sigmoid\n",
        "# \n",
        "ModelEvaluationAndVisualization(sigmoid_svm_clf, _phase2_fs_y_test, sigmoid_svm_clf.predict(_phase2_fs_X_test)).display_confusion_matrix()\n",
        "# "
      ]
    },
    {
      "cell_type": "code",
      "execution_count": 130,
      "metadata": {},
      "outputs": [
        {
          "data": {
            "text/plain": [
              "<AxesSubplot:>"
            ]
          },
          "execution_count": 130,
          "metadata": {},
          "output_type": "execute_result"
        },
        {
          "data": {
            "image/png": "[encoded data removed]",
            "text/plain": [
              "<Figure size 432x288 with 2 Axes>"
            ]
          },
          "metadata": {
            "needs_background": "light"
          },
          "output_type": "display_data"
        }
      ],
      "source": [
        "# \n",
        "# \n",
        "# Bagging (SVM-Linear)\n",
        "# \n",
        "ModelEvaluationAndVisualization(bag_linear_svm_clf, _phase2_fs_y_test, bag_linear_svm_clf.predict(_phase2_fs_X_test)).display_confusion_matrix()\n",
        "# \n",
        "# \n"
      ]
    },
    {
      "cell_type": "code",
      "execution_count": 131,
      "metadata": {},
      "outputs": [
        {
          "data": {
            "text/plain": [
              "<AxesSubplot:>"
            ]
          },
          "execution_count": 131,
          "metadata": {},
          "output_type": "execute_result"
        },
        {
          "data": {
            "image/png": "[encoded data removed]",
            "text/plain": [
              "<Figure size 432x288 with 2 Axes>"
            ]
          },
          "metadata": {
            "needs_background": "light"
          },
          "output_type": "display_data"
        }
      ],
      "source": [
        "# \n",
        "# \n",
        "# Bagging (SVM-Rbf)\n",
        "# \n",
        "ModelEvaluationAndVisualization(bag_rbf_svm_clf, _phase2_fs_y_test, bag_rbf_svm_clf.predict(_phase2_fs_X_test)).display_confusion_matrix()\n",
        "# \n",
        "# "
      ]
    },
    {
      "cell_type": "code",
      "execution_count": 132,
      "metadata": {},
      "outputs": [
        {
          "data": {
            "text/plain": [
              "<AxesSubplot:>"
            ]
          },
          "execution_count": 132,
          "metadata": {},
          "output_type": "execute_result"
        },
        {
          "data": {
            "image/png": "[encoded data removed]",
            "text/plain": [
              "<Figure size 432x288 with 2 Axes>"
            ]
          },
          "metadata": {
            "needs_background": "light"
          },
          "output_type": "display_data"
        }
      ],
      "source": [
        "# \n",
        "# \n",
        "# Bagging (SVM-Poly)\n",
        "# \n",
        "ModelEvaluationAndVisualization(bag_poly_svm_clf, _phase2_fs_y_test, bag_poly_svm_clf.predict(_phase2_fs_X_test)).display_confusion_matrix()\n",
        "# \n",
        "# "
      ]
    },
    {
      "cell_type": "code",
      "execution_count": 133,
      "metadata": {},
      "outputs": [
        {
          "data": {
            "text/plain": [
              "<AxesSubplot:>"
            ]
          },
          "execution_count": 133,
          "metadata": {},
          "output_type": "execute_result"
        },
        {
          "data": {
            "image/png": "[encoded data removed]",
            "text/plain": [
              "<Figure size 432x288 with 2 Axes>"
            ]
          },
          "metadata": {
            "needs_background": "light"
          },
          "output_type": "display_data"
        }
      ],
      "source": [
        "# \n",
        "# \n",
        "# Bagging (SVM-Sigmoid)\n",
        "# \n",
        "ModelEvaluationAndVisualization(bag_sigmoid_svm_clf, _phase2_fs_y_test, bag_sigmoid_svm_clf.predict(_phase2_fs_X_test)).display_confusion_matrix()\n",
        "# \n",
        "# "
      ]
    },
    {
      "cell_type": "code",
      "execution_count": 134,
      "metadata": {},
      "outputs": [
        {
          "data": {
            "text/plain": [
              "<AxesSubplot:>"
            ]
          },
          "execution_count": 134,
          "metadata": {},
          "output_type": "execute_result"
        },
        {
          "data": {
            "image/png": "[encoded data removed]",
            "text/plain": [
              "<Figure size 432x288 with 2 Axes>"
            ]
          },
          "metadata": {
            "needs_background": "light"
          },
          "output_type": "display_data"
        }
      ],
      "source": [
        "# \n",
        "# \n",
        "# Boosting (SVM-Linear)\n",
        "# \n",
        "ModelEvaluationAndVisualization(boost_linear_svm_clf, _phase2_fs_y_test, boost_linear_svm_clf.predict(_phase2_fs_X_test)).display_confusion_matrix()\n",
        "# \n",
        "# "
      ]
    },
    {
      "cell_type": "code",
      "execution_count": 135,
      "metadata": {},
      "outputs": [
        {
          "data": {
            "text/plain": [
              "<AxesSubplot:>"
            ]
          },
          "execution_count": 135,
          "metadata": {},
          "output_type": "execute_result"
        },
        {
          "data": {
            "image/png": "[encoded data removed]",
            "text/plain": [
              "<Figure size 432x288 with 2 Axes>"
            ]
          },
          "metadata": {
            "needs_background": "light"
          },
          "output_type": "display_data"
        }
      ],
      "source": [
        "# \n",
        "# \n",
        "# Boosting (SVM-Rbf)\n",
        "# \n",
        "ModelEvaluationAndVisualization(boost_rbf_svm_clf, _phase2_fs_y_test, boost_rbf_svm_clf.predict(_phase2_fs_X_test)).display_confusion_matrix()\n",
        "# \n",
        "# "
      ]
    },
    {
      "cell_type": "code",
      "execution_count": 136,
      "metadata": {},
      "outputs": [
        {
          "data": {
            "text/plain": [
              "<AxesSubplot:>"
            ]
          },
          "execution_count": 136,
          "metadata": {},
          "output_type": "execute_result"
        },
        {
          "data": {
            "image/png": "[encoded data removed]",
            "text/plain": [
              "<Figure size 432x288 with 2 Axes>"
            ]
          },
          "metadata": {
            "needs_background": "light"
          },
          "output_type": "display_data"
        }
      ],
      "source": [
        "# \n",
        "# \n",
        "# Boosting (SVM-Poly)\n",
        "# \n",
        "ModelEvaluationAndVisualization(boost_poly_svm_clf, _phase2_fs_y_test, boost_poly_svm_clf.predict(_phase2_fs_X_test)).display_confusion_matrix()\n",
        "# \n",
        "# "
      ]
    },
    {
      "cell_type": "code",
      "execution_count": 137,
      "metadata": {},
      "outputs": [
        {
          "data": {
            "text/plain": [
              "<AxesSubplot:>"
            ]
          },
          "execution_count": 137,
          "metadata": {},
          "output_type": "execute_result"
        },
        {
          "data": {
            "image/png": "[encoded data removed]",
            "text/plain": [
              "<Figure size 432x288 with 2 Axes>"
            ]
          },
          "metadata": {
            "needs_background": "light"
          },
          "output_type": "display_data"
        }
      ],
      "source": [
        "# \n",
        "# \n",
        "# Boosting (SVM-Sigmoid)\n",
        "# \n",
        "ModelEvaluationAndVisualization(boost_sigmoid_svm_clf, _phase2_fs_y_test, boost_sigmoid_svm_clf.predict(_phase2_fs_X_test)).display_confusion_matrix()\n",
        "# \n",
        "# "
      ]
    },
    {
      "cell_type": "code",
      "execution_count": 138,
      "metadata": {},
      "outputs": [
        {
          "data": {
            "text/plain": [
              "<AxesSubplot:>"
            ]
          },
          "execution_count": 138,
          "metadata": {},
          "output_type": "execute_result"
        },
        {
          "data": {
            "image/png": "[encoded data removed]",
            "text/plain": [
              "<Figure size 432x288 with 2 Axes>"
            ]
          },
          "metadata": {
            "needs_background": "light"
          },
          "output_type": "display_data"
        }
      ],
      "source": [
        "# \n",
        "# Stacking\n",
        "# \n",
        "ModelEvaluationAndVisualization(stacking_clf, _phase2_fs_y_test, stacking_clf.predict(_phase2_fs_X_test)).display_confusion_matrix()\n",
        "# "
      ]
    },
    {
      "cell_type": "markdown",
      "metadata": {},
      "source": [
        "##### Accuracy"
      ]
    },
    {
      "cell_type": "code",
      "execution_count": 139,
      "metadata": {},
      "outputs": [
        {
          "data": {
            "image/png": "[encoded data removed]",
            "text/plain": [
              "<Figure size 576x432 with 1 Axes>"
            ]
          },
          "metadata": {
            "needs_background": "light"
          },
          "output_type": "display_data"
        }
      ],
      "source": [
        "# \n",
        "# accuracy_score\n",
        "# \n",
        "accuracy_score_y = [(ModelEvaluationAndVisualization(model, _phase2_fs_y_test, model.predict(_phase2_fs_X_test)).accuracy_score()) for model in model_clfs]\n",
        "# \n",
        "# Simple Bar Plot\n",
        "plt.figure(figsize=(8,6))\n",
        "plt.bar(models_x, accuracy_score_y)\n",
        "plt.xlabel('Models')\n",
        "plt.xticks(rotation=90)\n",
        "plt.ylabel(\"Accuracy Score\")\n",
        "plt.title('Accuracy')\n",
        "plt.show()\n",
        "# "
      ]
    },
    {
      "cell_type": "code",
      "execution_count": 140,
      "metadata": {},
      "outputs": [
        {
          "name": "stdout",
          "output_type": "stream",
          "text": [
            "Models                Accuracy values\n",
            "------------------  -----------------\n",
            "Linear SVM                   0.898734\n",
            "Rbf SVM                      0.708861\n",
            "Poly SVM                     0.246835\n",
            "Sigmoid SVM                  0.689873\n",
            "Bag(Linear SVM)              0.85443\n",
            "Bag(Rbf SVM)                 0.886076\n",
            "Bag(Poly SVM)                0.892405\n",
            "Bag(Sigmoid SVM)             0.848101\n",
            "Boost(Linear SVM)            0.512658\n",
            "Boost(Rbf SVM)               0.303797\n",
            "Boost(Poly SVM)              0.702532\n",
            "Boost(Sigmoid SVM)           0.303797\n",
            "Stacking[LogReg]             0.898734\n"
          ]
        }
      ],
      "source": [
        "# \n",
        "# \n",
        "accuracy_table = {}\n",
        "# accuracy_score_y\n",
        "for index, model_clf_name in enumerate(models_x):\n",
        "    accuracy_table[model_clf_name] = accuracy_score_y[index]\n",
        "\n",
        "# \n",
        "# \n",
        "# accuracy_table\n",
        "print(FS1._tabulate(accuracy_table, headers = ['Models', 'Accuracy values']))\n"
      ]
    },
    {
      "cell_type": "markdown",
      "metadata": {},
      "source": [
        "##### Precision"
      ]
    },
    {
      "cell_type": "code",
      "execution_count": 141,
      "metadata": {},
      "outputs": [
        {
          "name": "stdout",
          "output_type": "stream",
          "text": [
            "Models                Precision values\n",
            "------------------  ------------------\n",
            "Linear SVM                    0.898734\n",
            "Rbf SVM                       0.708861\n",
            "Poly SVM                      0.246835\n",
            "Sigmoid SVM                   0.689873\n",
            "Bag(Linear SVM)               0.85443\n",
            "Bag(Rbf SVM)                  0.886076\n",
            "Bag(Poly SVM)                 0.892405\n",
            "Bag(Sigmoid SVM)              0.848101\n",
            "Boost(Linear SVM)             0.512658\n",
            "Boost(Rbf SVM)                0.303797\n",
            "Boost(Poly SVM)               0.702532\n",
            "Boost(Sigmoid SVM)            0.303797\n",
            "Stacking[LogReg]              0.898734\n"
          ]
        }
      ],
      "source": [
        "# \n",
        "precision_score_y = [\n",
        "    ModelEvaluationAndVisualization(model_clf, _phase2_fs_y_test, model_clf.predict(_phase2_fs_X_test)).precision_score() for model_clf in model_clfs\n",
        "]\n",
        "# \n",
        "precision_table = {}\n",
        "# ModelEvaluationAndVisualization(linear_svm_clf, _phase2_fs_y_test, linear_svm_clf.predict(_phase2_fs_X_test)).precision_score()\n",
        "for index, model_clf_name in enumerate(models_x):\n",
        "    precision_table[model_clf_name] = precision_score_y[index]\n",
        "\n",
        "# \n",
        "# precision_table\n",
        "print(FS1._tabulate(precision_table, headers = ['Models', 'Precision values']))\n",
        "# "
      ]
    },
    {
      "cell_type": "markdown",
      "metadata": {},
      "source": [
        "##### Recall"
      ]
    },
    {
      "cell_type": "code",
      "execution_count": 142,
      "metadata": {},
      "outputs": [
        {
          "name": "stdout",
          "output_type": "stream",
          "text": [
            "Models                Recall values\n",
            "------------------  ---------------\n",
            "Linear SVM                 0.898734\n",
            "Rbf SVM                    0.708861\n",
            "Poly SVM                   0.246835\n",
            "Sigmoid SVM                0.689873\n",
            "Bag(Linear SVM)            0.85443\n",
            "Bag(Rbf SVM)               0.886076\n",
            "Bag(Poly SVM)              0.892405\n",
            "Bag(Sigmoid SVM)           0.848101\n",
            "Boost(Linear SVM)          0.512658\n",
            "Boost(Rbf SVM)             0.303797\n",
            "Boost(Poly SVM)            0.702532\n",
            "Boost(Sigmoid SVM)         0.303797\n",
            "Stacking[LogReg]           0.898734\n"
          ]
        }
      ],
      "source": [
        "# \n",
        "recall_score_y = [\n",
        "    ModelEvaluationAndVisualization(model_clf, _phase2_fs_y_test, model_clf.predict(_phase2_fs_X_test)).recall_score() for model_clf in model_clfs\n",
        "]\n",
        "# \n",
        "recall_table = {}\n",
        "# ModelEvaluationAndVisualization(linear_svm_clf, _phase2_fs_y_test, linear_svm_clf.predict(_phase2_fs_X_test)).recall_score()\n",
        "for index, model_clf_name in enumerate(models_x):\n",
        "    recall_table[model_clf_name] = recall_score_y[index]\n",
        "\n",
        "# \n",
        "# recall_table\n",
        "print(FS1._tabulate(recall_table, headers = ['Models', 'Recall values']))\n",
        "# "
      ]
    },
    {
      "cell_type": "markdown",
      "metadata": {},
      "source": [
        "##### Sensitivity"
      ]
    },
    {
      "cell_type": "code",
      "execution_count": 143,
      "metadata": {},
      "outputs": [
        {
          "name": "stdout",
          "output_type": "stream",
          "text": [
            "Models                Sensitivity values\n",
            "------------------  --------------------\n",
            "Linear SVM                      0.8837\n",
            "Rbf SVM                         0.555449\n",
            "Poly SVM                        0.332613\n",
            "Sigmoid SVM                     0.600601\n",
            "Bag(Linear SVM)                 0.823565\n",
            "Bag(Rbf SVM)                    0.863248\n",
            "Bag(Poly SVM)                   0.873745\n",
            "Bag(Sigmoid SVM)                0.815629\n",
            "Boost(Linear SVM)               0.37037\n",
            "Boost(Rbf SVM)                  0.166667\n",
            "Boost(Poly SVM)                 0.624598\n",
            "Boost(Sigmoid SVM)              0.166667\n",
            "Stacking[LogReg]                0.8837\n"
          ]
        }
      ],
      "source": [
        "# \n",
        "sensitivity_score_y = [\n",
        "    mean(ModelEvaluationAndVisualization(model_clf, _phase2_fs_y_test, model_clf.predict(_phase2_fs_X_test)).sensitivity()) for model_clf in model_clfs\n",
        "]\n",
        "# \n",
        "sensitivity_table = {}\n",
        "# ModelEvaluationAndVisualization(linear_svm_clf, _phase2_fs_y_test, linear_svm_clf.predict(_phase2_fs_X_test)).sensitivity_score()\n",
        "for index, model_clf_name in enumerate(models_x):\n",
        "    sensitivity_table[model_clf_name] = sensitivity_score_y[index]\n",
        "\n",
        "# \n",
        "# \n",
        "# sensitivity_table\n",
        "print(FS1._tabulate(sensitivity_table, headers = ['Models', 'Sensitivity values']))\n",
        "# \n",
        "# "
      ]
    },
    {
      "cell_type": "markdown",
      "metadata": {},
      "source": [
        "##### Specificity"
      ]
    },
    {
      "cell_type": "code",
      "execution_count": 144,
      "metadata": {},
      "outputs": [
        {
          "name": "stdout",
          "output_type": "stream",
          "text": [
            "Models                Specificity values\n",
            "------------------  --------------------\n",
            "Linear SVM                      0.980121\n",
            "Rbf SVM                         0.940544\n",
            "Poly SVM                        0.866107\n",
            "Sigmoid SVM                     0.935512\n",
            "Bag(Linear SVM)                 0.971144\n",
            "Bag(Rbf SVM)                    0.977457\n",
            "Bag(Poly SVM)                   0.978722\n",
            "Bag(Sigmoid SVM)                0.968985\n",
            "Boost(Linear SVM)               0.883333\n",
            "Boost(Rbf SVM)                  0.833333\n",
            "Boost(Poly SVM)                 0.934415\n",
            "Boost(Sigmoid SVM)              0.833333\n",
            "Stacking[LogReg]                0.980121\n"
          ]
        }
      ],
      "source": [
        "# \n",
        "specificity_score_y = [\n",
        "    mean(ModelEvaluationAndVisualization(model_clf, _phase2_fs_y_test, model_clf.predict(_phase2_fs_X_test)).specificity()) for model_clf in model_clfs\n",
        "]\n",
        "# \n",
        "specificity_table = {}\n",
        "# ModelEvaluationAndVisualization(linear_svm_clf, _phase2_fs_y_test, linear_svm_clf.predict(_phase2_fs_X_test)).specificity_score()\n",
        "for index, model_clf_name in enumerate(models_x):\n",
        "    specificity_table[model_clf_name] = specificity_score_y[index]\n",
        "\n",
        "# \n",
        "# \n",
        "# specificity_table\n",
        "print(FS1._tabulate(specificity_table, headers = ['Models', 'Specificity values']))\n",
        "# \n",
        "# "
      ]
    },
    {
      "cell_type": "markdown",
      "metadata": {},
      "source": [
        "##### Precision/Recall/Fscore/Support"
      ]
    },
    {
      "cell_type": "code",
      "execution_count": 145,
      "metadata": {},
      "outputs": [
        {
          "name": "stdout",
          "output_type": "stream",
          "text": [
            "Models              [Precision, Recall, F1 score & Support] values\n",
            "------------------  ----------------------------------------------------------------------------------------\n",
            "Linear SVM          (0.8850250626566416, 0.8836996336996337, 0.8839506172839506, [48, 26, 31, 21, 23, 9])\n",
            "Rbf SVM             (0.5767339544513458, 0.555449381536338, 0.5341326903826904, [48, 26, 31, 21, 23, 9])\n",
            "Poly SVM            (0.43842592592592594, 0.332613287250384, 0.24587279207894108, [48, 26, 31, 21, 23, 9])\n",
            "Sigmoid SVM         (0.718463480963481, 0.6006010248646995, 0.6089318687472338, [48, 26, 31, 21, 23, 9])\n",
            "Bag(Linear SVM)     (0.8116531165311653, 0.8235653235653235, 0.800810761009766, [48, 26, 31, 21, 23, 9])\n",
            "Bag(Rbf SVM)        (0.8745791245791246, 0.8632478632478633, 0.8578629032258065, [48, 26, 31, 21, 23, 9])\n",
            "Bag(Poly SVM)       (0.898015873015873, 0.8737445350348576, 0.868662535807584, [48, 26, 31, 21, 23, 9])\n",
            "Bag(Sigmoid SVM)    (0.8274976657329598, 0.8156288156288156, 0.783952052494252, [48, 26, 31, 21, 23, 9])\n",
            "Boost(Linear SVM)   (0.3973333333333333, 0.37037037037037035, 0.3197582764056752, [48, 26, 31, 21, 23, 9])\n",
            "Boost(Rbf SVM)      (0.05063291139240506, 0.16666666666666666, 0.07766990291262137, [48, 26, 31, 21, 23, 9])\n",
            "Boost(Poly SVM)     (0.6885964912280702, 0.624598351106065, 0.6086370820077657, [48, 26, 31, 21, 23, 9])\n",
            "Boost(Sigmoid SVM)  (0.05063291139240506, 0.16666666666666666, 0.07766990291262137, [48, 26, 31, 21, 23, 9])\n",
            "Stacking[LogReg]    (0.8850250626566416, 0.8836996336996337, 0.8839506172839506, [48, 26, 31, 21, 23, 9])\n"
          ]
        }
      ],
      "source": [
        "# \n",
        "precision_recall_fscore_support_score_y = [\n",
        "    ModelEvaluationAndVisualization(model_clf, _phase2_fs_y_test, model_clf.predict(_phase2_fs_X_test)).precision_recall_fscore_support() for model_clf in model_clfs\n",
        "]\n",
        "# \n",
        "precision_recall_fscore_support_table = {}\n",
        "# ModelEvaluationAndVisualization(linear_svm_clf, _phase2_fs_y_test, linear_svm_clf.predict(_phase2_fs_X_test)).precision_recall_fscore_support_score()\n",
        "for index, model_clf_name in enumerate(models_x):\n",
        "    precision_recall_fscore_support_table[model_clf_name] = precision_recall_fscore_support_score_y[index]\n",
        "\n",
        "# \n",
        "# \n",
        "# precision_recall_fscore_support_table\n",
        "print(FS1._tabulate(precision_recall_fscore_support_table, headers = ['Models', '[Precision, Recall, F1 score & Support] values']))\n",
        "# \n",
        "# "
      ]
    },
    {
      "cell_type": "markdown",
      "metadata": {},
      "source": [
        "##### Scattered Box plot [base & ensemble models]"
      ]
    },
    {
      "cell_type": "code",
      "execution_count": 146,
      "metadata": {},
      "outputs": [
        {
          "data": {
            "text/html": [
              "<div>\n",
              "<style scoped>\n",
              "    .dataframe tbody tr th:only-of-type {\n",
              "        vertical-align: middle;\n",
              "    }\n",
              "\n",
              "    .dataframe tbody tr th {\n",
              "        vertical-align: top;\n",
              "    }\n",
              "\n",
              "    .dataframe thead th {\n",
              "        text-align: right;\n",
              "    }\n",
              "</style>\n",
              "<table border=\"1\" class=\"dataframe\">\n",
              "  <thead>\n",
              "    <tr style=\"text-align: right;\">\n",
              "      <th></th>\n",
              "      <th>Linear SVM</th>\n",
              "      <th>Rbf SVM</th>\n",
              "      <th>Poly SVM</th>\n",
              "      <th>Sigmoid SVM</th>\n",
              "      <th>Bag(Linear SVM)</th>\n",
              "      <th>Bag(Rbf SVM)</th>\n",
              "      <th>Bag(Poly SVM)</th>\n",
              "      <th>Bag(Sigmoid SVM)</th>\n",
              "      <th>Boost(Linear SVM)</th>\n",
              "      <th>Boost(Rbf SVM)</th>\n",
              "      <th>Boost(Poly SVM)</th>\n",
              "      <th>Boost(Sigmoid SVM)</th>\n",
              "      <th>Stacking[LogReg]</th>\n",
              "    </tr>\n",
              "  </thead>\n",
              "  <tbody>\n",
              "    <tr>\n",
              "      <th>0</th>\n",
              "      <td>0.926829</td>\n",
              "      <td>0.829268</td>\n",
              "      <td>0.292683</td>\n",
              "      <td>0.829268</td>\n",
              "      <td>0.902439</td>\n",
              "      <td>0.902439</td>\n",
              "      <td>0.902439</td>\n",
              "      <td>0.853659</td>\n",
              "      <td>0.560976</td>\n",
              "      <td>0.048780</td>\n",
              "      <td>0.853659</td>\n",
              "      <td>0.048780</td>\n",
              "      <td>0.926829</td>\n",
              "    </tr>\n",
              "    <tr>\n",
              "      <th>1</th>\n",
              "      <td>0.853659</td>\n",
              "      <td>0.756098</td>\n",
              "      <td>0.268293</td>\n",
              "      <td>0.780488</td>\n",
              "      <td>0.902439</td>\n",
              "      <td>0.878049</td>\n",
              "      <td>0.902439</td>\n",
              "      <td>0.878049</td>\n",
              "      <td>0.682927</td>\n",
              "      <td>0.048780</td>\n",
              "      <td>0.756098</td>\n",
              "      <td>0.048780</td>\n",
              "      <td>0.878049</td>\n",
              "    </tr>\n",
              "    <tr>\n",
              "      <th>2</th>\n",
              "      <td>0.928571</td>\n",
              "      <td>0.785714</td>\n",
              "      <td>0.452381</td>\n",
              "      <td>0.547619</td>\n",
              "      <td>0.904762</td>\n",
              "      <td>0.928571</td>\n",
              "      <td>0.928571</td>\n",
              "      <td>0.880952</td>\n",
              "      <td>0.523810</td>\n",
              "      <td>0.166667</td>\n",
              "      <td>0.738095</td>\n",
              "      <td>0.166667</td>\n",
              "      <td>0.928571</td>\n",
              "    </tr>\n",
              "    <tr>\n",
              "      <th>3</th>\n",
              "      <td>0.857143</td>\n",
              "      <td>0.761905</td>\n",
              "      <td>0.357143</td>\n",
              "      <td>0.642857</td>\n",
              "      <td>0.880952</td>\n",
              "      <td>0.880952</td>\n",
              "      <td>0.880952</td>\n",
              "      <td>0.857143</td>\n",
              "      <td>0.500000</td>\n",
              "      <td>0.142857</td>\n",
              "      <td>0.809524</td>\n",
              "      <td>0.142857</td>\n",
              "      <td>0.904762</td>\n",
              "    </tr>\n",
              "    <tr>\n",
              "      <th>4</th>\n",
              "      <td>0.952381</td>\n",
              "      <td>0.880952</td>\n",
              "      <td>0.380952</td>\n",
              "      <td>0.809524</td>\n",
              "      <td>0.880952</td>\n",
              "      <td>0.904762</td>\n",
              "      <td>0.928571</td>\n",
              "      <td>0.833333</td>\n",
              "      <td>0.523810</td>\n",
              "      <td>0.166667</td>\n",
              "      <td>0.809524</td>\n",
              "      <td>0.166667</td>\n",
              "      <td>0.976190</td>\n",
              "    </tr>\n",
              "  </tbody>\n",
              "</table>\n",
              "</div>"
            ],
            "text/plain": [
              "   Linear SVM   Rbf SVM  Poly SVM  Sigmoid SVM  Bag(Linear SVM)  Bag(Rbf SVM)  \\\n",
              "0    0.926829  0.829268  0.292683     0.829268         0.902439      0.902439   \n",
              "1    0.853659  0.756098  0.268293     0.780488         0.902439      0.878049   \n",
              "2    0.928571  0.785714  0.452381     0.547619         0.904762      0.928571   \n",
              "3    0.857143  0.761905  0.357143     0.642857         0.880952      0.880952   \n",
              "4    0.952381  0.880952  0.380952     0.809524         0.880952      0.904762   \n",
              "\n",
              "   Bag(Poly SVM)  Bag(Sigmoid SVM)  Boost(Linear SVM)  Boost(Rbf SVM)  \\\n",
              "0       0.902439          0.853659           0.560976        0.048780   \n",
              "1       0.902439          0.878049           0.682927        0.048780   \n",
              "2       0.928571          0.880952           0.523810        0.166667   \n",
              "3       0.880952          0.857143           0.500000        0.142857   \n",
              "4       0.928571          0.833333           0.523810        0.166667   \n",
              "\n",
              "   Boost(Poly SVM)  Boost(Sigmoid SVM)  Stacking[LogReg]  \n",
              "0         0.853659            0.048780          0.926829  \n",
              "1         0.756098            0.048780          0.878049  \n",
              "2         0.738095            0.166667          0.928571  \n",
              "3         0.809524            0.142857          0.904762  \n",
              "4         0.809524            0.166667          0.976190  "
            ]
          },
          "execution_count": 146,
          "metadata": {},
          "output_type": "execute_result"
        }
      ],
      "source": [
        "# \n",
        "# Accuracy of five base learners\n",
        "# Y = accuracy score\n",
        "# X = names of learners\n",
        "# \n",
        "# \n",
        "CV = 5\n",
        "models_accuracies = {}\n",
        "# \n",
        "for model_clf in model_clfs:\n",
        "    models_accuracies[models_x[model_clfs.index(model_clf)]] = cross_val_score(model_clf, _phase2_fs_X_train, _phase2_fs_y_train, scoring ='accuracy', cv=CV)\n",
        "\n",
        "# \n",
        "boxplot_df = pd.DataFrame(data=np.rot90(list(models_accuracies.values())), columns=list(models_accuracies.keys()))\n",
        "# \n",
        "boxplot_df\n",
        "# boxplot_df.plot.box(title='Boxplot with pandas');\n",
        "# \n",
        "# "
      ]
    },
    {
      "cell_type": "code",
      "execution_count": 147,
      "metadata": {},
      "outputs": [
        {
          "ename": "ModuleNotFoundError",
          "evalue": "No module named 'openpyxl'",
          "output_type": "error",
          "traceback": [
            "\u001b[0;31m---------------------------------------------------------------------------\u001b[0m",
            "\u001b[0;31mModuleNotFoundError\u001b[0m                       Traceback (most recent call last)",
            "\u001b[1;32m/home/seekersoftec/Documents/Tech/Seeker Labs/AI_and_Data_Eng/AI_and_Machine_learning/Comparative_analysis_of_different_ensemble_methods_N_disease/Erythemato-squamous disease/Erythemato-squamous_Prediction_rfe-svm_ (copy).ipynb Cell 90'\u001b[0m in \u001b[0;36m<module>\u001b[0;34m\u001b[0m\n\u001b[0;32m----> <a href='vscode-notebook-cell:/home/seekersoftec/Documents/Tech/Seeker%20Labs/AI_and_Data_Eng/AI_and_Machine_learning/Comparative_analysis_of_different_ensemble_methods_N_disease/Erythemato-squamous%20disease/Erythemato-squamous_Prediction_rfe-svm_%20%28copy%29.ipynb#ch0000089?line=0'>1</a>\u001b[0m boxplot_df\u001b[39m.\u001b[39;49mto_excel(\u001b[39m\"\u001b[39;49m\u001b[39mresults/AccuraciesTable-rfe_svm.xlsx\u001b[39;49m\u001b[39m\"\u001b[39;49m)\n",
            "File \u001b[0;32m~/.local/lib/python3.9/site-packages/pandas/core/generic.py:2357\u001b[0m, in \u001b[0;36mNDFrame.to_excel\u001b[0;34m(self, excel_writer, sheet_name, na_rep, float_format, columns, header, index, index_label, startrow, startcol, engine, merge_cells, encoding, inf_rep, verbose, freeze_panes, storage_options)\u001b[0m\n\u001b[1;32m   <a href='file:///home/seekersoftec/.local/lib/python3.9/site-packages/pandas/core/generic.py?line=2343'>2344</a>\u001b[0m \u001b[39mfrom\u001b[39;00m \u001b[39mpandas\u001b[39;00m\u001b[39m.\u001b[39;00m\u001b[39mio\u001b[39;00m\u001b[39m.\u001b[39;00m\u001b[39mformats\u001b[39;00m\u001b[39m.\u001b[39;00m\u001b[39mexcel\u001b[39;00m \u001b[39mimport\u001b[39;00m ExcelFormatter\n\u001b[1;32m   <a href='file:///home/seekersoftec/.local/lib/python3.9/site-packages/pandas/core/generic.py?line=2345'>2346</a>\u001b[0m formatter \u001b[39m=\u001b[39m ExcelFormatter(\n\u001b[1;32m   <a href='file:///home/seekersoftec/.local/lib/python3.9/site-packages/pandas/core/generic.py?line=2346'>2347</a>\u001b[0m     df,\n\u001b[1;32m   <a href='file:///home/seekersoftec/.local/lib/python3.9/site-packages/pandas/core/generic.py?line=2347'>2348</a>\u001b[0m     na_rep\u001b[39m=\u001b[39mna_rep,\n\u001b[0;32m   (...)\u001b[0m\n\u001b[1;32m   <a href='file:///home/seekersoftec/.local/lib/python3.9/site-packages/pandas/core/generic.py?line=2354'>2355</a>\u001b[0m     inf_rep\u001b[39m=\u001b[39minf_rep,\n\u001b[1;32m   <a href='file:///home/seekersoftec/.local/lib/python3.9/site-packages/pandas/core/generic.py?line=2355'>2356</a>\u001b[0m )\n\u001b[0;32m-> <a href='file:///home/seekersoftec/.local/lib/python3.9/site-packages/pandas/core/generic.py?line=2356'>2357</a>\u001b[0m formatter\u001b[39m.\u001b[39;49mwrite(\n\u001b[1;32m   <a href='file:///home/seekersoftec/.local/lib/python3.9/site-packages/pandas/core/generic.py?line=2357'>2358</a>\u001b[0m     excel_writer,\n\u001b[1;32m   <a href='file:///home/seekersoftec/.local/lib/python3.9/site-packages/pandas/core/generic.py?line=2358'>2359</a>\u001b[0m     sheet_name\u001b[39m=\u001b[39;49msheet_name,\n\u001b[1;32m   <a href='file:///home/seekersoftec/.local/lib/python3.9/site-packages/pandas/core/generic.py?line=2359'>2360</a>\u001b[0m     startrow\u001b[39m=\u001b[39;49mstartrow,\n\u001b[1;32m   <a href='file:///home/seekersoftec/.local/lib/python3.9/site-packages/pandas/core/generic.py?line=2360'>2361</a>\u001b[0m     startcol\u001b[39m=\u001b[39;49mstartcol,\n\u001b[1;32m   <a href='file:///home/seekersoftec/.local/lib/python3.9/site-packages/pandas/core/generic.py?line=2361'>2362</a>\u001b[0m     freeze_panes\u001b[39m=\u001b[39;49mfreeze_panes,\n\u001b[1;32m   <a href='file:///home/seekersoftec/.local/lib/python3.9/site-packages/pandas/core/generic.py?line=2362'>2363</a>\u001b[0m     engine\u001b[39m=\u001b[39;49mengine,\n\u001b[1;32m   <a href='file:///home/seekersoftec/.local/lib/python3.9/site-packages/pandas/core/generic.py?line=2363'>2364</a>\u001b[0m     storage_options\u001b[39m=\u001b[39;49mstorage_options,\n\u001b[1;32m   <a href='file:///home/seekersoftec/.local/lib/python3.9/site-packages/pandas/core/generic.py?line=2364'>2365</a>\u001b[0m )\n",
            "File \u001b[0;32m~/.local/lib/python3.9/site-packages/pandas/io/formats/excel.py:886\u001b[0m, in \u001b[0;36mExcelFormatter.write\u001b[0;34m(self, writer, sheet_name, startrow, startcol, freeze_panes, engine, storage_options)\u001b[0m\n\u001b[1;32m    <a href='file:///home/seekersoftec/.local/lib/python3.9/site-packages/pandas/io/formats/excel.py?line=881'>882</a>\u001b[0m     need_save \u001b[39m=\u001b[39m \u001b[39mFalse\u001b[39;00m\n\u001b[1;32m    <a href='file:///home/seekersoftec/.local/lib/python3.9/site-packages/pandas/io/formats/excel.py?line=882'>883</a>\u001b[0m \u001b[39melse\u001b[39;00m:\n\u001b[1;32m    <a href='file:///home/seekersoftec/.local/lib/python3.9/site-packages/pandas/io/formats/excel.py?line=883'>884</a>\u001b[0m     \u001b[39m# error: Cannot instantiate abstract class 'ExcelWriter' with abstract\u001b[39;00m\n\u001b[1;32m    <a href='file:///home/seekersoftec/.local/lib/python3.9/site-packages/pandas/io/formats/excel.py?line=884'>885</a>\u001b[0m     \u001b[39m# attributes 'engine', 'save', 'supported_extensions' and 'write_cells'\u001b[39;00m\n\u001b[0;32m--> <a href='file:///home/seekersoftec/.local/lib/python3.9/site-packages/pandas/io/formats/excel.py?line=885'>886</a>\u001b[0m     writer \u001b[39m=\u001b[39m ExcelWriter(  \u001b[39m# type: ignore[abstract]\u001b[39;49;00m\n\u001b[1;32m    <a href='file:///home/seekersoftec/.local/lib/python3.9/site-packages/pandas/io/formats/excel.py?line=886'>887</a>\u001b[0m         writer, engine\u001b[39m=\u001b[39;49mengine, storage_options\u001b[39m=\u001b[39;49mstorage_options\n\u001b[1;32m    <a href='file:///home/seekersoftec/.local/lib/python3.9/site-packages/pandas/io/formats/excel.py?line=887'>888</a>\u001b[0m     )\n\u001b[1;32m    <a href='file:///home/seekersoftec/.local/lib/python3.9/site-packages/pandas/io/formats/excel.py?line=888'>889</a>\u001b[0m     need_save \u001b[39m=\u001b[39m \u001b[39mTrue\u001b[39;00m\n\u001b[1;32m    <a href='file:///home/seekersoftec/.local/lib/python3.9/site-packages/pandas/io/formats/excel.py?line=890'>891</a>\u001b[0m \u001b[39mtry\u001b[39;00m:\n",
            "File \u001b[0;32m~/.local/lib/python3.9/site-packages/pandas/io/excel/_openpyxl.py:49\u001b[0m, in \u001b[0;36mOpenpyxlWriter.__init__\u001b[0;34m(self, path, engine, date_format, datetime_format, mode, storage_options, if_sheet_exists, engine_kwargs, **kwargs)\u001b[0m\n\u001b[1;32m     <a href='file:///home/seekersoftec/.local/lib/python3.9/site-packages/pandas/io/excel/_openpyxl.py?line=35'>36</a>\u001b[0m \u001b[39mdef\u001b[39;00m \u001b[39m__init__\u001b[39m(\n\u001b[1;32m     <a href='file:///home/seekersoftec/.local/lib/python3.9/site-packages/pandas/io/excel/_openpyxl.py?line=36'>37</a>\u001b[0m     \u001b[39mself\u001b[39m,\n\u001b[1;32m     <a href='file:///home/seekersoftec/.local/lib/python3.9/site-packages/pandas/io/excel/_openpyxl.py?line=37'>38</a>\u001b[0m     path,\n\u001b[0;32m   (...)\u001b[0m\n\u001b[1;32m     <a href='file:///home/seekersoftec/.local/lib/python3.9/site-packages/pandas/io/excel/_openpyxl.py?line=46'>47</a>\u001b[0m ):\n\u001b[1;32m     <a href='file:///home/seekersoftec/.local/lib/python3.9/site-packages/pandas/io/excel/_openpyxl.py?line=47'>48</a>\u001b[0m     \u001b[39m# Use the openpyxl module as the Excel writer.\u001b[39;00m\n\u001b[0;32m---> <a href='file:///home/seekersoftec/.local/lib/python3.9/site-packages/pandas/io/excel/_openpyxl.py?line=48'>49</a>\u001b[0m     \u001b[39mfrom\u001b[39;00m \u001b[39mopenpyxl\u001b[39;00m\u001b[39m.\u001b[39;00m\u001b[39mworkbook\u001b[39;00m \u001b[39mimport\u001b[39;00m Workbook\n\u001b[1;32m     <a href='file:///home/seekersoftec/.local/lib/python3.9/site-packages/pandas/io/excel/_openpyxl.py?line=50'>51</a>\u001b[0m     engine_kwargs \u001b[39m=\u001b[39m combine_kwargs(engine_kwargs, kwargs)\n\u001b[1;32m     <a href='file:///home/seekersoftec/.local/lib/python3.9/site-packages/pandas/io/excel/_openpyxl.py?line=52'>53</a>\u001b[0m     \u001b[39msuper\u001b[39m()\u001b[39m.\u001b[39m\u001b[39m__init__\u001b[39m(\n\u001b[1;32m     <a href='file:///home/seekersoftec/.local/lib/python3.9/site-packages/pandas/io/excel/_openpyxl.py?line=53'>54</a>\u001b[0m         path,\n\u001b[1;32m     <a href='file:///home/seekersoftec/.local/lib/python3.9/site-packages/pandas/io/excel/_openpyxl.py?line=54'>55</a>\u001b[0m         mode\u001b[39m=\u001b[39mmode,\n\u001b[0;32m   (...)\u001b[0m\n\u001b[1;32m     <a href='file:///home/seekersoftec/.local/lib/python3.9/site-packages/pandas/io/excel/_openpyxl.py?line=57'>58</a>\u001b[0m         engine_kwargs\u001b[39m=\u001b[39mengine_kwargs,\n\u001b[1;32m     <a href='file:///home/seekersoftec/.local/lib/python3.9/site-packages/pandas/io/excel/_openpyxl.py?line=58'>59</a>\u001b[0m     )\n",
            "\u001b[0;31mModuleNotFoundError\u001b[0m: No module named 'openpyxl'"
          ]
        }
      ],
      "source": [
        "boxplot_df.to_excel(\"results/AccuraciesTable-rfe_svm.xlsx\")"
      ]
    },
    {
      "cell_type": "code",
      "execution_count": null,
      "metadata": {},
      "outputs": [
        {
          "data": {
            "image/png": "[encoded data removed]",
            "text/plain": [
              "<Figure size 576x432 with 1 Axes>"
            ]
          },
          "metadata": {
            "needs_background": "light"
          },
          "output_type": "display_data"
        }
      ],
      "source": [
        "# \n",
        "vals, names, xs = [],[],[]\n",
        "for i, col in enumerate(boxplot_df.columns):\n",
        "    vals.append(boxplot_df[col].values)\n",
        "    names.append(col)\n",
        "    xs.append(np.random.normal(i + 1, 0.04, boxplot_df[col].values.shape[0]))  # adds jitter to the data points - can be adjusted\n",
        "# \n",
        "# \n",
        "# \n",
        "plt.figure(figsize=(8,6))\n",
        "plt.xticks(rotation=90)\n",
        "plt.boxplot(vals, labels=names)\n",
        "palette = ['r', 'g', 'b', 'y']\n",
        "for x, val, c in zip(xs, vals, palette):\n",
        "    plt.scatter(x, val, alpha=0.4, color=c)\n",
        "plt.show()\n",
        "# \n",
        "# "
      ]
    },
    {
      "cell_type": "markdown",
      "metadata": {},
      "source": [
        "## Docs"
      ]
    },
    {
      "cell_type": "code",
      "execution_count": null,
      "metadata": {},
      "outputs": [],
      "source": [
        "# \n",
        "# \n",
        "# boxplot_df = pd.DataFrame({\n",
        "# 'Models': models_x,\n",
        "# 'Accuracy Score': [model_clf.score(_phase2_fs_X_test, _phase2_fs_y_test) for model_clf in model_clfs]\n",
        "# })\n",
        "# \n",
        "# # \n",
        "# # \n",
        "# # boxplot(df)\n",
        "# plt.figure(figsize=(18,6))\n",
        "# sns.boxplot(x=boxplot_df['Models'],y=boxplot_df['Accuracy Score'], data=boxplot_df, width=0.8)\n",
        "# # \n",
        "# # \n",
        "# \n",
        "# # Create Data\n",
        "# x=['A','B','C','D','E','F','G','H','I','J']\n",
        "# y = np.random.randint(low=0, high=100, size=10)\n",
        "# \n",
        "# # Simple Bar Plot\n",
        "# plt.bar(x,y)\n",
        "# plt.xlabel('Categories')\n",
        "# plt.ylabel(\"Values\")\n",
        "# plt.title('Categories Bar Plot')\n",
        "# plt.show()\n",
        "# \n",
        "# \n",
        "# \n",
        "# # mutual_info\n",
        "# # \n",
        "# mutual_info_x = list(mutual_info.keys())\n",
        "# # \n",
        "# mutual_info_y = list(mutual_info.values())\n",
        "# # \n",
        "# # Simple Bar Plot\n",
        "# plt.figure(figsize=(14,4))\n",
        "# plt.bar(mutual_info_x, mutual_info_y)\n",
        "# plt.xlabel('Features')\n",
        "# plt.xticks(rotation=90)\n",
        "# plt.ylabel(\"Scores\")\n",
        "# plt.title('Mutual Info')\n",
        "# plt.show()\n",
        "# \n",
        "# \n",
        "# https://towardsdatascience.com/the-eda-theoretical-guide-b7cef7653f0d\n",
        "# https://towardsdatascience.com/14-data-visualization-plots-of-seaborn-14a7bdd16cd7\n",
        "# https://en.wikipedia.org/wiki/Sensitivity_and_specificity\n",
        "# https://towardsdatascience.com/multi-class-classification-extracting-performance-metrics-from-the-confusion-matrix-b379b427a872\n",
        "# https://towardsdatascience.com/confusion-matrix-for-your-multi-class-machine-learning-model-ff9aa3bf7826\n",
        "# https://towardsdatascience.com/scattered-boxplots-graphing-experimental-results-with-matplotlib-seaborn-and-pandas-81f9fa8a1801\n",
        "# https://htmlcolorcodes.com/\n",
        "# https://machinelearningmastery.com/roc-curves-and-precision-recall-curves-for-classification-in-python/#:~:text=a%20ROC%20curve.-,What%20Are%20ROC%20Curves%3F,values%20between%200.0%20and%201.0.\n",
        "# \n",
        "# \n",
        "# \n",
        "# \n",
        "# "
      ]
    }
  ],
  "metadata": {
    "colab": {
      "collapsed_sections": [],
      "name": "Cervical Cancer Prediction.ipynb",
      "provenance": []
    },
    "interpreter": {
      "hash": "e7370f93d1d0cde622a1f8e1c04877d8463912d04d973331ad4851f04de6915a"
    },
    "kernelspec": {
      "display_name": "Python 3.9.2 64-bit",
      "language": "python",
      "name": "python3"
    },
    "language_info": {
      "codemirror_mode": {
        "name": "ipython",
        "version": 3
      },
      "file_extension": ".py",
      "mimetype": "text/x-python",
      "name": "python",
      "nbconvert_exporter": "python",
      "pygments_lexer": "ipython3",
      "version": "3.9.2"
    }
  },
  "nbformat": 4,
  "nbformat_minor": 0
}
