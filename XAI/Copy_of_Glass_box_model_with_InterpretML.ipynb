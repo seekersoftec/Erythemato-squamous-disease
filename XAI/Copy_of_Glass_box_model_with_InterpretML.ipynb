{
  "cells": [
    {
      "cell_type": "markdown",
      "id": "0a43c96b-caa2-4dba-8f16-49c0367f54cd",
      "metadata": {
        "id": "0a43c96b-caa2-4dba-8f16-49c0367f54cd"
      },
      "source": [
        "### XAI- Interpret ML Tutorial\n",
        "```bash\n",
        "pip install interpret\n",
        "```\n",
        "\n",
        "#### Types of Models Based on Interpretation or Explainability\n",
        "+ Black Box Model Explanations\n",
        "    - input --> [BlackBox Model] --> Output\n",
        "    - we don't know how the model comes to it decisions\n",
        "    - we use external packages to explain the prediction of the model\n",
        "  \n",
        "+ GlassBox Model\n",
        "    - input --> [GlassBox Model] --> Output\n",
        "    - Models are inherently interpretable\n",
        "    - We know how the model makes decision\n",
        "    - Like a Glass it is transparent and visible\n",
        "    \n"
      ]
    },
    {
      "cell_type": "code",
      "execution_count": 1,
      "id": "cytnqd50FFIG",
      "metadata": {
        "colab": {
          "base_uri": "https://localhost:8080/"
        },
        "id": "cytnqd50FFIG",
        "outputId": "73089a9f-1b5c-45db-8d22-592f446d742a"
      },
      "outputs": [],
      "source": [
        "# ! pip install interpret"
      ]
    },
    {
      "cell_type": "code",
      "execution_count": 2,
      "id": "lUg4gPH6WTiy",
      "metadata": {
        "id": "lUg4gPH6WTiy"
      },
      "outputs": [],
      "source": [
        "# from google.colab import drive\n",
        "# drive.mount('/content/drive')"
      ]
    },
    {
      "cell_type": "code",
      "execution_count": 1,
      "id": "573de507-22f5-4493-8b76-dc9e11e3cc49",
      "metadata": {
        "id": "573de507-22f5-4493-8b76-dc9e11e3cc49"
      },
      "outputs": [],
      "source": [
        "# Load EDA Pkgs\n",
        "import pandas as pd\n",
        "import numpy as np\n",
        "# \n",
        "from sklearn.model_selection import train_test_split"
      ]
    },
    {
      "cell_type": "code",
      "execution_count": 2,
      "id": "87cd35bb-e0b9-4307-81b8-698d77289ca2",
      "metadata": {
        "id": "87cd35bb-e0b9-4307-81b8-698d77289ca2"
      },
      "outputs": [],
      "source": [
        "# Load Dataset\n",
        "# df = pd.read_csv(\"/content/bank-full.csv\",sep=';')\n",
        "df = pd.read_csv(\"bank-full.csv\",sep=';')"
      ]
    },
    {
      "cell_type": "code",
      "execution_count": 3,
      "id": "b90723aa-5466-43d6-97ea-5fc0da867856",
      "metadata": {
        "colab": {
          "base_uri": "https://localhost:8080/",
          "height": 270
        },
        "id": "b90723aa-5466-43d6-97ea-5fc0da867856",
        "outputId": "23bb70e0-e235-4e78-fcd1-5e4ed125c6b5"
      },
      "outputs": [
        {
          "data": {
            "text/html": [
              "<div>\n",
              "<style scoped>\n",
              "    .dataframe tbody tr th:only-of-type {\n",
              "        vertical-align: middle;\n",
              "    }\n",
              "\n",
              "    .dataframe tbody tr th {\n",
              "        vertical-align: top;\n",
              "    }\n",
              "\n",
              "    .dataframe thead th {\n",
              "        text-align: right;\n",
              "    }\n",
              "</style>\n",
              "<table border=\"1\" class=\"dataframe\">\n",
              "  <thead>\n",
              "    <tr style=\"text-align: right;\">\n",
              "      <th></th>\n",
              "      <th>age</th>\n",
              "      <th>job</th>\n",
              "      <th>marital</th>\n",
              "      <th>education</th>\n",
              "      <th>default</th>\n",
              "      <th>balance</th>\n",
              "      <th>housing</th>\n",
              "      <th>loan</th>\n",
              "      <th>contact</th>\n",
              "      <th>day</th>\n",
              "      <th>month</th>\n",
              "      <th>duration</th>\n",
              "      <th>campaign</th>\n",
              "      <th>pdays</th>\n",
              "      <th>previous</th>\n",
              "      <th>poutcome</th>\n",
              "      <th>y</th>\n",
              "    </tr>\n",
              "  </thead>\n",
              "  <tbody>\n",
              "    <tr>\n",
              "      <th>0</th>\n",
              "      <td>58</td>\n",
              "      <td>management</td>\n",
              "      <td>married</td>\n",
              "      <td>tertiary</td>\n",
              "      <td>no</td>\n",
              "      <td>2143</td>\n",
              "      <td>yes</td>\n",
              "      <td>no</td>\n",
              "      <td>unknown</td>\n",
              "      <td>5</td>\n",
              "      <td>may</td>\n",
              "      <td>261</td>\n",
              "      <td>1</td>\n",
              "      <td>-1</td>\n",
              "      <td>0</td>\n",
              "      <td>unknown</td>\n",
              "      <td>no</td>\n",
              "    </tr>\n",
              "    <tr>\n",
              "      <th>1</th>\n",
              "      <td>44</td>\n",
              "      <td>technician</td>\n",
              "      <td>single</td>\n",
              "      <td>secondary</td>\n",
              "      <td>no</td>\n",
              "      <td>29</td>\n",
              "      <td>yes</td>\n",
              "      <td>no</td>\n",
              "      <td>unknown</td>\n",
              "      <td>5</td>\n",
              "      <td>may</td>\n",
              "      <td>151</td>\n",
              "      <td>1</td>\n",
              "      <td>-1</td>\n",
              "      <td>0</td>\n",
              "      <td>unknown</td>\n",
              "      <td>no</td>\n",
              "    </tr>\n",
              "    <tr>\n",
              "      <th>2</th>\n",
              "      <td>33</td>\n",
              "      <td>entrepreneur</td>\n",
              "      <td>married</td>\n",
              "      <td>secondary</td>\n",
              "      <td>no</td>\n",
              "      <td>2</td>\n",
              "      <td>yes</td>\n",
              "      <td>yes</td>\n",
              "      <td>unknown</td>\n",
              "      <td>5</td>\n",
              "      <td>may</td>\n",
              "      <td>76</td>\n",
              "      <td>1</td>\n",
              "      <td>-1</td>\n",
              "      <td>0</td>\n",
              "      <td>unknown</td>\n",
              "      <td>no</td>\n",
              "    </tr>\n",
              "    <tr>\n",
              "      <th>3</th>\n",
              "      <td>47</td>\n",
              "      <td>blue-collar</td>\n",
              "      <td>married</td>\n",
              "      <td>unknown</td>\n",
              "      <td>no</td>\n",
              "      <td>1506</td>\n",
              "      <td>yes</td>\n",
              "      <td>no</td>\n",
              "      <td>unknown</td>\n",
              "      <td>5</td>\n",
              "      <td>may</td>\n",
              "      <td>92</td>\n",
              "      <td>1</td>\n",
              "      <td>-1</td>\n",
              "      <td>0</td>\n",
              "      <td>unknown</td>\n",
              "      <td>no</td>\n",
              "    </tr>\n",
              "    <tr>\n",
              "      <th>4</th>\n",
              "      <td>33</td>\n",
              "      <td>unknown</td>\n",
              "      <td>single</td>\n",
              "      <td>unknown</td>\n",
              "      <td>no</td>\n",
              "      <td>1</td>\n",
              "      <td>no</td>\n",
              "      <td>no</td>\n",
              "      <td>unknown</td>\n",
              "      <td>5</td>\n",
              "      <td>may</td>\n",
              "      <td>198</td>\n",
              "      <td>1</td>\n",
              "      <td>-1</td>\n",
              "      <td>0</td>\n",
              "      <td>unknown</td>\n",
              "      <td>no</td>\n",
              "    </tr>\n",
              "  </tbody>\n",
              "</table>\n",
              "</div>"
            ],
            "text/plain": [
              "   age           job  marital  education default  balance housing loan  \\\n",
              "0   58    management  married   tertiary      no     2143     yes   no   \n",
              "1   44    technician   single  secondary      no       29     yes   no   \n",
              "2   33  entrepreneur  married  secondary      no        2     yes  yes   \n",
              "3   47   blue-collar  married    unknown      no     1506     yes   no   \n",
              "4   33       unknown   single    unknown      no        1      no   no   \n",
              "\n",
              "   contact  day month  duration  campaign  pdays  previous poutcome   y  \n",
              "0  unknown    5   may       261         1     -1         0  unknown  no  \n",
              "1  unknown    5   may       151         1     -1         0  unknown  no  \n",
              "2  unknown    5   may        76         1     -1         0  unknown  no  \n",
              "3  unknown    5   may        92         1     -1         0  unknown  no  \n",
              "4  unknown    5   may       198         1     -1         0  unknown  no  "
            ]
          },
          "execution_count": 3,
          "metadata": {},
          "output_type": "execute_result"
        }
      ],
      "source": [
        "df.head()"
      ]
    },
    {
      "cell_type": "code",
      "execution_count": 4,
      "id": "ab2eda2c-4c77-4188-85f0-3bc6d537e058",
      "metadata": {
        "colab": {
          "base_uri": "https://localhost:8080/"
        },
        "id": "ab2eda2c-4c77-4188-85f0-3bc6d537e058",
        "outputId": "4d4f4b83-558a-4025-f458-11166acce6c0"
      },
      "outputs": [
        {
          "data": {
            "text/plain": [
              "age           int64\n",
              "job          object\n",
              "marital      object\n",
              "education    object\n",
              "default      object\n",
              "balance       int64\n",
              "housing      object\n",
              "loan         object\n",
              "contact      object\n",
              "day           int64\n",
              "month        object\n",
              "duration      int64\n",
              "campaign      int64\n",
              "pdays         int64\n",
              "previous      int64\n",
              "poutcome     object\n",
              "y            object\n",
              "dtype: object"
            ]
          },
          "execution_count": 4,
          "metadata": {},
          "output_type": "execute_result"
        }
      ],
      "source": [
        "# Check for Datatype\n",
        "df.dtypes"
      ]
    },
    {
      "cell_type": "code",
      "execution_count": 5,
      "id": "ace174c5-b1e6-48ba-b69c-2f71ecd71a10",
      "metadata": {
        "id": "ace174c5-b1e6-48ba-b69c-2f71ecd71a10"
      },
      "outputs": [],
      "source": [
        "df1 = pd.DataFrame({col: df[col].astype('category').cat.codes for col in df}, index=df.index)\n"
      ]
    },
    {
      "cell_type": "markdown",
      "id": "4110c473-6294-429e-a459-44778f8ee06b",
      "metadata": {
        "id": "4110c473-6294-429e-a459-44778f8ee06b"
      },
      "source": [
        "#### Encoding"
      ]
    },
    {
      "cell_type": "code",
      "execution_count": 6,
      "id": "9a47eeb9-0e75-4e76-a8ca-ab1cd4cc113d",
      "metadata": {
        "colab": {
          "base_uri": "https://localhost:8080/",
          "height": 270
        },
        "id": "9a47eeb9-0e75-4e76-a8ca-ab1cd4cc113d",
        "outputId": "416539ae-7101-4b6d-cc54-5402356c9b3c"
      },
      "outputs": [
        {
          "data": {
            "text/html": [
              "<div>\n",
              "<style scoped>\n",
              "    .dataframe tbody tr th:only-of-type {\n",
              "        vertical-align: middle;\n",
              "    }\n",
              "\n",
              "    .dataframe tbody tr th {\n",
              "        vertical-align: top;\n",
              "    }\n",
              "\n",
              "    .dataframe thead th {\n",
              "        text-align: right;\n",
              "    }\n",
              "</style>\n",
              "<table border=\"1\" class=\"dataframe\">\n",
              "  <thead>\n",
              "    <tr style=\"text-align: right;\">\n",
              "      <th></th>\n",
              "      <th>age</th>\n",
              "      <th>job</th>\n",
              "      <th>marital</th>\n",
              "      <th>education</th>\n",
              "      <th>default</th>\n",
              "      <th>balance</th>\n",
              "      <th>housing</th>\n",
              "      <th>loan</th>\n",
              "      <th>contact</th>\n",
              "      <th>day</th>\n",
              "      <th>month</th>\n",
              "      <th>duration</th>\n",
              "      <th>campaign</th>\n",
              "      <th>pdays</th>\n",
              "      <th>previous</th>\n",
              "      <th>poutcome</th>\n",
              "      <th>y</th>\n",
              "    </tr>\n",
              "  </thead>\n",
              "  <tbody>\n",
              "    <tr>\n",
              "      <th>0</th>\n",
              "      <td>40</td>\n",
              "      <td>4</td>\n",
              "      <td>1</td>\n",
              "      <td>2</td>\n",
              "      <td>0</td>\n",
              "      <td>3036</td>\n",
              "      <td>1</td>\n",
              "      <td>0</td>\n",
              "      <td>2</td>\n",
              "      <td>4</td>\n",
              "      <td>8</td>\n",
              "      <td>261</td>\n",
              "      <td>0</td>\n",
              "      <td>0</td>\n",
              "      <td>0</td>\n",
              "      <td>3</td>\n",
              "      <td>0</td>\n",
              "    </tr>\n",
              "    <tr>\n",
              "      <th>1</th>\n",
              "      <td>26</td>\n",
              "      <td>9</td>\n",
              "      <td>2</td>\n",
              "      <td>1</td>\n",
              "      <td>0</td>\n",
              "      <td>945</td>\n",
              "      <td>1</td>\n",
              "      <td>0</td>\n",
              "      <td>2</td>\n",
              "      <td>4</td>\n",
              "      <td>8</td>\n",
              "      <td>151</td>\n",
              "      <td>0</td>\n",
              "      <td>0</td>\n",
              "      <td>0</td>\n",
              "      <td>3</td>\n",
              "      <td>0</td>\n",
              "    </tr>\n",
              "    <tr>\n",
              "      <th>2</th>\n",
              "      <td>15</td>\n",
              "      <td>2</td>\n",
              "      <td>1</td>\n",
              "      <td>1</td>\n",
              "      <td>0</td>\n",
              "      <td>918</td>\n",
              "      <td>1</td>\n",
              "      <td>1</td>\n",
              "      <td>2</td>\n",
              "      <td>4</td>\n",
              "      <td>8</td>\n",
              "      <td>76</td>\n",
              "      <td>0</td>\n",
              "      <td>0</td>\n",
              "      <td>0</td>\n",
              "      <td>3</td>\n",
              "      <td>0</td>\n",
              "    </tr>\n",
              "    <tr>\n",
              "      <th>3</th>\n",
              "      <td>29</td>\n",
              "      <td>1</td>\n",
              "      <td>1</td>\n",
              "      <td>3</td>\n",
              "      <td>0</td>\n",
              "      <td>2420</td>\n",
              "      <td>1</td>\n",
              "      <td>0</td>\n",
              "      <td>2</td>\n",
              "      <td>4</td>\n",
              "      <td>8</td>\n",
              "      <td>92</td>\n",
              "      <td>0</td>\n",
              "      <td>0</td>\n",
              "      <td>0</td>\n",
              "      <td>3</td>\n",
              "      <td>0</td>\n",
              "    </tr>\n",
              "    <tr>\n",
              "      <th>4</th>\n",
              "      <td>15</td>\n",
              "      <td>11</td>\n",
              "      <td>2</td>\n",
              "      <td>3</td>\n",
              "      <td>0</td>\n",
              "      <td>917</td>\n",
              "      <td>0</td>\n",
              "      <td>0</td>\n",
              "      <td>2</td>\n",
              "      <td>4</td>\n",
              "      <td>8</td>\n",
              "      <td>198</td>\n",
              "      <td>0</td>\n",
              "      <td>0</td>\n",
              "      <td>0</td>\n",
              "      <td>3</td>\n",
              "      <td>0</td>\n",
              "    </tr>\n",
              "  </tbody>\n",
              "</table>\n",
              "</div>"
            ],
            "text/plain": [
              "   age  job  marital  education  default  balance  housing  loan  contact  \\\n",
              "0   40    4        1          2        0     3036        1     0        2   \n",
              "1   26    9        2          1        0      945        1     0        2   \n",
              "2   15    2        1          1        0      918        1     1        2   \n",
              "3   29    1        1          3        0     2420        1     0        2   \n",
              "4   15   11        2          3        0      917        0     0        2   \n",
              "\n",
              "   day  month  duration  campaign  pdays  previous  poutcome  y  \n",
              "0    4      8       261         0      0         0         3  0  \n",
              "1    4      8       151         0      0         0         3  0  \n",
              "2    4      8        76         0      0         0         3  0  \n",
              "3    4      8        92         0      0         0         3  0  \n",
              "4    4      8       198         0      0         0         3  0  "
            ]
          },
          "execution_count": 6,
          "metadata": {},
          "output_type": "execute_result"
        }
      ],
      "source": [
        "df1.head()"
      ]
    },
    {
      "cell_type": "code",
      "execution_count": 7,
      "id": "1853fb75-e9bb-45de-a032-6c736d404b47",
      "metadata": {
        "id": "1853fb75-e9bb-45de-a032-6c736d404b47"
      },
      "outputs": [],
      "source": [
        "# Features and Ylabels\n",
        "Xfeatures = df1[['age', 'job', 'marital', 'education', 'default', 'balance', 'housing',\n",
        "       'loan', 'contact', 'day', 'month', 'duration', 'campaign', 'pdays',\n",
        "       'previous', 'poutcome']]\n",
        "ylabels = df1['y']"
      ]
    },
    {
      "cell_type": "code",
      "execution_count": 8,
      "id": "6903c458-0c4b-4285-a096-90e163a915de",
      "metadata": {
        "id": "6903c458-0c4b-4285-a096-90e163a915de"
      },
      "outputs": [],
      "source": [
        "# Split Dataset\n",
        "x_train,x_test,y_train,y_test = train_test_split(Xfeatures,ylabels,test_size=0.3,random_state=7)"
      ]
    },
    {
      "cell_type": "markdown",
      "id": "a34df048-74a0-4a9c-a947-466e26424759",
      "metadata": {
        "id": "a34df048-74a0-4a9c-a947-466e26424759"
      },
      "source": [
        "### Build Model"
      ]
    },
    {
      "cell_type": "code",
      "execution_count": 9,
      "id": "-sYpxb_eieCL",
      "metadata": {
        "id": "-sYpxb_eieCL"
      },
      "outputs": [],
      "source": [
        "# ML Pkgs\n",
        "from sklearn.linear_model import LogisticRegression\n",
        "# Metrics\n",
        "from sklearn.model_selection import train_test_split,cross_val_score"
      ]
    },
    {
      "cell_type": "code",
      "execution_count": 10,
      "id": "f61c3183-08fa-40da-9c4a-007e58beccdd",
      "metadata": {
        "colab": {
          "base_uri": "https://localhost:8080/"
        },
        "id": "f61c3183-08fa-40da-9c4a-007e58beccdd",
        "outputId": "5f7dc72b-b71a-48db-879a-7107c0dc8cee"
      },
      "outputs": [
        {
          "name": "stderr",
          "output_type": "stream",
          "text": [
            "/home/seekersoftec/.local/lib/python3.9/site-packages/sklearn/linear_model/_logistic.py:814: ConvergenceWarning: lbfgs failed to converge (status=1):\n",
            "STOP: TOTAL NO. of ITERATIONS REACHED LIMIT.\n",
            "\n",
            "Increase the number of iterations (max_iter) or scale the data as shown in:\n",
            "    https://scikit-learn.org/stable/modules/preprocessing.html\n",
            "Please also refer to the documentation for alternative solver options:\n",
            "    https://scikit-learn.org/stable/modules/linear_model.html#logistic-regression\n",
            "  n_iter_i = _check_optimize_result(\n"
          ]
        },
        {
          "data": {
            "text/plain": [
              "LogisticRegression()"
            ]
          },
          "execution_count": 10,
          "metadata": {},
          "output_type": "execute_result"
        }
      ],
      "source": [
        "# Log Reg Model\n",
        "lr_model = LogisticRegression()\n",
        "lr_model.fit(x_train,y_train)"
      ]
    },
    {
      "cell_type": "code",
      "execution_count": 12,
      "id": "b8d9041c-bc3e-42f2-9a0f-5cc210c740bd",
      "metadata": {
        "colab": {
          "base_uri": "https://localhost:8080/"
        },
        "id": "b8d9041c-bc3e-42f2-9a0f-5cc210c740bd",
        "outputId": "ef917b7a-aebc-4edc-85bd-47bb61707276"
      },
      "outputs": [
        {
          "data": {
            "text/plain": [
              "0.8927307578885284"
            ]
          },
          "execution_count": 12,
          "metadata": {},
          "output_type": "execute_result"
        }
      ],
      "source": [
        "# Accuracy of Model\n",
        "lr_model.score(x_test,y_test)"
      ]
    },
    {
      "cell_type": "markdown",
      "id": "48b70c95-841e-4046-91bf-4972c59a8f11",
      "metadata": {
        "id": "48b70c95-841e-4046-91bf-4972c59a8f11"
      },
      "source": [
        "#### Build A GlassBox Model\n",
        "+ EBM (Explainable Boosting Classifier)"
      ]
    },
    {
      "cell_type": "code",
      "execution_count": 13,
      "id": "eddbe424-5e84-4424-9cb6-d46a239e948b",
      "metadata": {
        "id": "eddbe424-5e84-4424-9cb6-d46a239e948b"
      },
      "outputs": [],
      "source": [
        "import interpret"
      ]
    },
    {
      "cell_type": "code",
      "execution_count": 14,
      "id": "47158c95-9fa2-4437-b6dd-1cdfdbfd6462",
      "metadata": {
        "colab": {
          "base_uri": "https://localhost:8080/"
        },
        "collapsed": true,
        "id": "47158c95-9fa2-4437-b6dd-1cdfdbfd6462",
        "jupyter": {
          "outputs_hidden": true
        },
        "outputId": "c937fcb1-438e-4ed6-bf2b-8ff178ebed39",
        "tags": []
      },
      "outputs": [
        {
          "data": {
            "text/plain": [
              "['NullHandler',\n",
              " '__builtins__',\n",
              " '__cached__',\n",
              " '__doc__',\n",
              " '__file__',\n",
              " '__loader__',\n",
              " '__name__',\n",
              " '__package__',\n",
              " '__path__',\n",
              " '__spec__',\n",
              " '__version__',\n",
              " 'getLogger',\n",
              " 'get_show_addr',\n",
              " 'get_visualize_provider',\n",
              " 'init_show_server',\n",
              " 'preserve',\n",
              " 'provider',\n",
              " 'set_show_addr',\n",
              " 'set_visualize_provider',\n",
              " 'show',\n",
              " 'show_link',\n",
              " 'shutdown_show_server',\n",
              " 'status_show_server',\n",
              " 'utils',\n",
              " 'version',\n",
              " 'visual']"
            ]
          },
          "execution_count": 14,
          "metadata": {},
          "output_type": "execute_result"
        }
      ],
      "source": [
        "# Methods/Attrib\n",
        "dir(interpret)"
      ]
    },
    {
      "cell_type": "code",
      "execution_count": 15,
      "id": "93f159cd-139f-48a8-a4af-a37b6e492b33",
      "metadata": {
        "id": "93f159cd-139f-48a8-a4af-a37b6e492b33"
      },
      "outputs": [],
      "source": [
        "# Our EBM Model Glassbox model\n",
        "from interpret.glassbox import ExplainableBoostingClassifier"
      ]
    },
    {
      "cell_type": "code",
      "execution_count": 16,
      "id": "4ea839a4-8393-45c7-a646-8e76fdf65fe7",
      "metadata": {
        "colab": {
          "base_uri": "https://localhost:8080/"
        },
        "id": "4ea839a4-8393-45c7-a646-8e76fdf65fe7",
        "outputId": "33c88f9c-479c-4203-a141-1e1dc5e561a6"
      },
      "outputs": [
        {
          "data": {
            "text/plain": [
              "ExplainableBoostingClassifier(feature_names=['age', 'job', 'marital',\n",
              "                                             'education', 'default', 'balance',\n",
              "                                             'housing', 'loan', 'contact',\n",
              "                                             'day', 'month', 'duration',\n",
              "                                             'campaign', 'pdays', 'previous',\n",
              "                                             'poutcome', 'housing x month',\n",
              "                                             'housing x duration',\n",
              "                                             'day x month', 'month x duration',\n",
              "                                             'contact x duration',\n",
              "                                             'duration x poutcome',\n",
              "                                             'age x duration',\n",
              "                                             'balance x duration',\n",
              "                                             'duration x pdays',\n",
              "                                             'dur...\n",
              "                              feature_types=['continuous', 'continuous',\n",
              "                                             'continuous', 'continuous',\n",
              "                                             'categorical', 'continuous',\n",
              "                                             'categorical', 'categorical',\n",
              "                                             'continuous', 'continuous',\n",
              "                                             'continuous', 'continuous',\n",
              "                                             'continuous', 'continuous',\n",
              "                                             'continuous', 'continuous',\n",
              "                                             'interaction', 'interaction',\n",
              "                                             'interaction', 'interaction',\n",
              "                                             'interaction', 'interaction',\n",
              "                                             'interaction', 'interaction',\n",
              "                                             'interaction', 'interaction'])"
            ]
          },
          "execution_count": 16,
          "metadata": {},
          "output_type": "execute_result"
        }
      ],
      "source": [
        "ebm = ExplainableBoostingClassifier()\n",
        "ebm.fit(x_train,y_train)"
      ]
    },
    {
      "cell_type": "code",
      "execution_count": 17,
      "id": "54dfef5c-cf09-4ba4-96c0-b99a458b4e22",
      "metadata": {
        "colab": {
          "base_uri": "https://localhost:8080/"
        },
        "id": "54dfef5c-cf09-4ba4-96c0-b99a458b4e22",
        "outputId": "060afac6-9043-4d66-e094-49d9d562fbfe"
      },
      "outputs": [
        {
          "data": {
            "text/plain": [
              "0.9081391919787674"
            ]
          },
          "execution_count": 17,
          "metadata": {},
          "output_type": "execute_result"
        }
      ],
      "source": [
        "# Accuracy of EBM\n",
        "ebm.score(x_test,y_test)"
      ]
    },
    {
      "cell_type": "code",
      "execution_count": 18,
      "id": "48ed2401-c2ca-4c76-9ba8-ccd9ebce3f6c",
      "metadata": {
        "id": "48ed2401-c2ca-4c76-9ba8-ccd9ebce3f6c"
      },
      "outputs": [],
      "source": [
        "### Single Prediction\n",
        "ex1 = x_test.iloc[8]\n",
        "act1 = y_test.iloc[8]"
      ]
    },
    {
      "cell_type": "code",
      "execution_count": 19,
      "id": "8e106a1a-a099-48f0-b77f-78e52e7c0d58",
      "metadata": {
        "colab": {
          "base_uri": "https://localhost:8080/"
        },
        "id": "8e106a1a-a099-48f0-b77f-78e52e7c0d58",
        "outputId": "ee35c557-ca5c-4676-a2e5-fdddfdb04468"
      },
      "outputs": [
        {
          "name": "stdout",
          "output_type": "stream",
          "text": [
            "[0]\n",
            "[[0.93202639 0.06797361]]\n"
          ]
        }
      ],
      "source": [
        "# Prediction with EBM\n",
        "print(ebm.predict([ex1]))\n",
        "print(ebm.predict_proba([ex1]))"
      ]
    },
    {
      "cell_type": "markdown",
      "id": "12f10c72-d37c-47ed-923e-733fade03cf0",
      "metadata": {
        "id": "12f10c72-d37c-47ed-923e-733fade03cf0"
      },
      "source": [
        "#### Model Interpretation"
      ]
    },
    {
      "cell_type": "code",
      "execution_count": 20,
      "id": "b8b95cf5-9fdb-4c83-bbf6-69a6fd1a686e",
      "metadata": {
        "id": "b8b95cf5-9fdb-4c83-bbf6-69a6fd1a686e"
      },
      "outputs": [],
      "source": [
        "from interpret import show"
      ]
    },
    {
      "cell_type": "code",
      "execution_count": null,
      "id": "69d2d0d9-3ad6-4243-9edc-f99df72dd5a4",
      "metadata": {
        "id": "69d2d0d9-3ad6-4243-9edc-f99df72dd5a4"
      },
      "outputs": [],
      "source": [
        "# Global Explanation"
      ]
    },
    {
      "cell_type": "code",
      "execution_count": 21,
      "id": "ec47cafb-b0e0-4da1-8a95-72ae6e3ae594",
      "metadata": {
        "id": "ec47cafb-b0e0-4da1-8a95-72ae6e3ae594"
      },
      "outputs": [],
      "source": [
        "ebm_global = ebm.explain_global()"
      ]
    },
    {
      "cell_type": "code",
      "execution_count": 22,
      "id": "465361be-6795-4bf9-a4a1-640182628cb1",
      "metadata": {
        "colab": {
          "base_uri": "https://localhost:8080/",
          "height": 810
        },
        "collapsed": true,
        "id": "465361be-6795-4bf9-a4a1-640182628cb1",
        "jupyter": {
          "outputs_hidden": true
        },
        "outputId": "b5dd7fa2-a5cf-4992-b62c-6f9b3472a455",
        "tags": []
      },
      "outputs": [
        {
          "name": "stderr",
          "output_type": "stream",
          "text": [
            "/home/seekersoftec/.local/lib/python3.9/site-packages/interpret/visual/udash.py:5: UserWarning: \n",
            "The dash_html_components package is deprecated. Please replace\n",
            "`import dash_html_components as html` with `from dash import html`\n",
            "  import dash_html_components as html\n",
            "/home/seekersoftec/.local/lib/python3.9/site-packages/interpret/visual/udash.py:6: UserWarning: \n",
            "The dash_core_components package is deprecated. Please replace\n",
            "`import dash_core_components as dcc` with `from dash import dcc`\n",
            "  import dash_core_components as dcc\n",
            "/home/seekersoftec/.local/lib/python3.9/site-packages/interpret/visual/udash.py:7: UserWarning: \n",
            "The dash_table package is deprecated. Please replace\n",
            "`import dash_table` with `from dash import dash_table`\n",
            "\n",
            "Also, if you're using any of the table format helpers (e.g. Group), replace \n",
            "`from dash_table.Format import Group` with \n",
            "`from dash.dash_table.Format import Group`\n",
            "  import dash_table as dt\n"
          ]
        },
        {
          "data": {
            "text/html": [
              "<!-- http://127.0.0.1:7001/140025400065472/ -->\n",
              "<iframe src=\"http://127.0.0.1:7001/140025400065472/\" width=100% height=800 frameBorder=\"0\"></iframe>"
            ]
          },
          "metadata": {},
          "output_type": "display_data"
        }
      ],
      "source": [
        "# method 1:\n",
        "show(ebm_global)"
      ]
    },
    {
      "cell_type": "code",
      "execution_count": null,
      "id": "6d160bb2-803a-4287-b089-5658c26292ca",
      "metadata": {
        "id": "6d160bb2-803a-4287-b089-5658c26292ca"
      },
      "outputs": [],
      "source": [
        "# Local Explanation"
      ]
    },
    {
      "cell_type": "code",
      "execution_count": 23,
      "id": "664d3e28-3e2f-4e7a-a18a-19fb1ffc4c45",
      "metadata": {
        "id": "664d3e28-3e2f-4e7a-a18a-19fb1ffc4c45"
      },
      "outputs": [],
      "source": [
        "ebm_local = ebm.explain_local(x_test,y_test)"
      ]
    },
    {
      "cell_type": "code",
      "execution_count": 24,
      "id": "beab7f6a-9fa5-4094-96c4-cfdd6359a086",
      "metadata": {
        "id": "beab7f6a-9fa5-4094-96c4-cfdd6359a086"
      },
      "outputs": [
        {
          "data": {
            "text/html": [
              "<!-- http://127.0.0.1:7001/140025475986624/ -->\n",
              "<iframe src=\"http://127.0.0.1:7001/140025475986624/\" width=100% height=800 frameBorder=\"0\"></iframe>"
            ]
          },
          "metadata": {},
          "output_type": "display_data"
        }
      ],
      "source": [
        "show(ebm_local)"
      ]
    },
    {
      "cell_type": "code",
      "execution_count": 25,
      "id": "ON0zIf5heiom",
      "metadata": {
        "id": "ON0zIf5heiom"
      },
      "outputs": [
        {
          "data": {
            "text/html": [
              "<!-- http://127.0.0.1:7001/140025400065232/ -->\n",
              "<iframe src=\"http://127.0.0.1:7001/140025400065232/\" width=100% height=800 frameBorder=\"0\"></iframe>"
            ]
          },
          "metadata": {},
          "output_type": "display_data"
        }
      ],
      "source": [
        "ebm_local = ebm.explain_local(x_test, y_test)\n",
        "show(ebm_local)"
      ]
    }
  ],
  "metadata": {
    "accelerator": "GPU",
    "colab": {
      "name": "Copy_of_Glass_box_model_with_InterpretML.ipynb",
      "provenance": []
    },
    "interpreter": {
      "hash": "e7370f93d1d0cde622a1f8e1c04877d8463912d04d973331ad4851f04de6915a"
    },
    "kernelspec": {
      "display_name": "Python 3.9.2 64-bit",
      "language": "python",
      "name": "python3"
    },
    "language_info": {
      "codemirror_mode": {
        "name": "ipython",
        "version": 3
      },
      "file_extension": ".py",
      "mimetype": "text/x-python",
      "name": "python",
      "nbconvert_exporter": "python",
      "pygments_lexer": "ipython3",
      "version": "3.9.2"
    }
  },
  "nbformat": 4,
  "nbformat_minor": 5
}
